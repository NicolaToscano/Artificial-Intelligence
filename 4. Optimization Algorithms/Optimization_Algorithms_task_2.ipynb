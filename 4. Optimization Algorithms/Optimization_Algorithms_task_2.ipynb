{
 "cells": [
  {
   "cell_type": "markdown",
   "metadata": {
    "colab_type": "text",
    "id": "hVbXYX-RfPWh"
   },
   "source": [
    "# Algoritmos de optimización - Seminario\n",
    "\n",
    "#### Nico Toscano\n",
    "\n",
    "#### URL: https://github.com/NicolaiOcin/03MAIR---Algoritmos-de-Optimizacion---2019/tree/master/SEM                            "
   ]
  },
  {
   "cell_type": "markdown",
   "metadata": {},
   "source": [
    "#### Problema 3. Combinar cifras y operaciones\n",
    "• El problema consiste en analizar el siguiente problema y diseñar un algoritmo que lo resuelva.<br>\n",
    "• Disponemos de las 9 cifras del 1 al 9 (excluimos el cero) y de los 4 signos básicos de las\n",
    "operaciones fundamentales: suma(+), resta(-), multiplicación(*) y división(/)<br>\n",
    "• Debemos combinarlos alternativamente sin repetir ninguno de ellos para obtener una\n",
    "cantidad dada. Un ejemplo sería para obtener el 4:<br>\n",
    "4+2-6/3*1 = 4"
   ]
  },
  {
   "cell_type": "code",
   "execution_count": 1,
   "metadata": {},
   "outputs": [],
   "source": [
    "# Librerias\n",
    "import itertools\n",
    "import numpy as np\n",
    "import random"
   ]
  },
  {
   "cell_type": "markdown",
   "metadata": {
    "colab_type": "text",
    "id": "3_-exlrTgLd-"
   },
   "source": [
    "(*)¿Cuantas posibilidades hay sin tener en cuenta las restricciones?<br>\n",
    "\n",
    "\n",
    "\n",
    "¿Cuantas posibilidades hay teniendo en cuenta todas las restricciones.\n",
    "\n",
    "\n"
   ]
  },
  {
   "cell_type": "markdown",
   "metadata": {
    "colab_type": "text",
    "id": "WfCUqJyKhPcw"
   },
   "source": [
    "Respuesta"
   ]
  },
  {
   "cell_type": "markdown",
   "metadata": {
    "colab": {},
    "colab_type": "code",
    "id": "iq6Fe32MgpDX"
   },
   "source": [
    "> Tenemos una lista del 1 al 9, las soluciones serian las permutaciones de esta tupla, pero sólo con 5 números."
   ]
  },
  {
   "cell_type": "code",
   "execution_count": 2,
   "metadata": {
    "scrolled": true
   },
   "outputs": [
    {
     "name": "stdout",
     "output_type": "stream",
     "text": [
      "·Tamaño: 15120\n",
      "·Ejemplos de permutaciones:\n",
      " [(1, 2, 3, 4, 5), (1, 2, 3, 4, 6), (1, 2, 3, 4, 7), (1, 2, 3, 4, 8), (1, 2, 3, 4, 9), (1, 2, 3, 5, 4), (1, 2, 3, 5, 6), (1, 2, 3, 5, 7), (1, 2, 3, 5, 8), (1, 2, 3, 5, 9)]\n"
     ]
    }
   ],
   "source": [
    "# Numero de permutaciones de tupla del 1 al 9, con 5 numeros\n",
    "a = list(itertools.permutations([1,2,3,4,5,6,7,8,9],5))\n",
    "print(\"·Tamaño:\",len(a))\n",
    "print(\"·Ejemplos de permutaciones:\\n\",a[0:10])"
   ]
  },
  {
   "cell_type": "markdown",
   "metadata": {},
   "source": [
    ">Y después tenemos que permutar la tupla de 5 números con signos intercalados. Aunque tendremos tuplas que tengan el mismo valor (solución)."
   ]
  },
  {
   "cell_type": "code",
   "execution_count": 3,
   "metadata": {},
   "outputs": [
    {
     "name": "stdout",
     "output_type": "stream",
     "text": [
      "·Tamaño 9*8*7*6*5*4*3*2*1: 362880\n"
     ]
    }
   ],
   "source": [
    "#for i in a:\n",
    "    #b = [str(i[0]),'*',str(i[1]),'-',str(i[2]),'/',str(i[3]),'+',str(i[4])]\n",
    "    #c = list(itertools.permutations(b,10))\n",
    "\n",
    "print(\"·Tamaño 9*8*7*6*5*4*3*2*1:\",9*8*7*6*5*4*3*2*1)  "
   ]
  },
  {
   "cell_type": "markdown",
   "metadata": {
    "colab_type": "text",
    "id": "dzynfVJahHoY"
   },
   "source": [
    "Modelo para el espacio de soluciones<br>\n",
    "(*) ¿Cual es la estructura de datos que mejor se adapta al problema? Argumentalo.(Es posible que hayas elegido una al principio y veas la necesidad de cambiar, arguentalo)\n"
   ]
  },
  {
   "cell_type": "markdown",
   "metadata": {
    "colab_type": "text",
    "id": "xFIJrOwKi2Ti"
   },
   "source": [
    "Respuesta"
   ]
  },
  {
   "cell_type": "markdown",
   "metadata": {
    "colab": {},
    "colab_type": "code",
    "id": "38c-7-ejhJmA"
   },
   "source": [
    "> Algoritmos voraces porque tenemos que devolver un numero, a partir de otros numeros (con la restriccion de los signos intercalados). Con un algoritmo voraz podemos devolver cualquier número a partir de las condiciones del problema, sin recorrer todas combinaciones (de las condiciones que se nos dan) para llegar a la solución."
   ]
  },
  {
   "cell_type": "markdown",
   "metadata": {
    "colab_type": "text",
    "id": "7Z9U2W7bi-XS"
   },
   "source": [
    "Según el modelo para el espacio de soluciones<br>\n",
    "(*)¿Cual es la función objetivo?\n",
    "\n",
    "(*)¿Es un problema de maximización o minimización?"
   ]
  },
  {
   "cell_type": "markdown",
   "metadata": {
    "colab_type": "text",
    "id": "hBalWLM7j1_d"
   },
   "source": [
    "Respuesta"
   ]
  },
  {
   "cell_type": "markdown",
   "metadata": {
    "colab": {},
    "colab_type": "code",
    "id": "pDA-rg3Gj5Lz"
   },
   "source": [
    "> No tenemos una función objetivo a maximizar o minimizar. El objetivo es encontrar una combinación (de las condiciones que se nos dan) que devuelva un número en concreto."
   ]
  },
  {
   "cell_type": "markdown",
   "metadata": {},
   "source": [
    "> El número más alto que podemos llegar es de 77 y el más bajo es 0."
   ]
  },
  {
   "cell_type": "code",
   "execution_count": 4,
   "metadata": {},
   "outputs": [
    {
     "name": "stdout",
     "output_type": "stream",
     "text": [
      "·Mínimo: 5+3-2/1*4 =  0.0\n",
      "·Máximo: 9/1*8+7-2 =  77.0\n"
     ]
    }
   ],
   "source": [
    "# Valor máximo y mínimo que podemos llegar\n",
    "a = '5+3-2/1*4'\n",
    "b = '9/1*8+7-2'\n",
    "print('·Mínimo: 5+3-2/1*4 = ',eval(a)) \n",
    "print('·Máximo: 9/1*8+7-2 = ',eval(b))"
   ]
  },
  {
   "cell_type": "markdown",
   "metadata": {
    "colab_type": "text",
    "id": "rlnTYgY1j6I2"
   },
   "source": [
    "Diseña un algoritmo para resolver el problema por fuerza bruta"
   ]
  },
  {
   "cell_type": "markdown",
   "metadata": {
    "colab_type": "text",
    "id": "70rDgxYXkC8r"
   },
   "source": [
    "Respuesta"
   ]
  },
  {
   "cell_type": "markdown",
   "metadata": {
    "colab": {},
    "colab_type": "code",
    "id": "CJb5sQ0qkENy"
   },
   "source": [
    "> Seria recorrer todas las posibles combinaciones hasta hallar la combinación que de como resultado el número a determinar."
   ]
  },
  {
   "cell_type": "markdown",
   "metadata": {
    "colab_type": "text",
    "id": "tgrnsC2nkFa8"
   },
   "source": [
    "Calcula la complejidad del algoritmo por fuerza bruta"
   ]
  },
  {
   "cell_type": "markdown",
   "metadata": {
    "colab_type": "text",
    "id": "9eUd3xwckP68"
   },
   "source": [
    "Respuesta"
   ]
  },
  {
   "cell_type": "markdown",
   "metadata": {
    "colab": {},
    "colab_type": "code",
    "id": "rvZWwL-ckRST"
   },
   "source": [
    "> Factorial (todas las combinaciones posibles)"
   ]
  },
  {
   "cell_type": "markdown",
   "metadata": {
    "colab_type": "text",
    "id": "txbrmLmskReM"
   },
   "source": [
    "(*)Diseña un algoritmo que mejore la complejidad del algortimo por fuerza bruta. Argumenta porque crees que mejora el algoritmo por fuerza bruta"
   ]
  },
  {
   "cell_type": "markdown",
   "metadata": {
    "colab_type": "text",
    "id": "hLrVwt5QkZPD"
   },
   "source": [
    "Respuesta"
   ]
  },
  {
   "cell_type": "code",
   "execution_count": 5,
   "metadata": {
    "colab": {},
    "colab_type": "code",
    "id": "m1eyM21Vkabg"
   },
   "outputs": [],
   "source": [
    "def p(n):\n",
    "    \n",
    "    # Caso que el valor sea 0:\n",
    "    if n ==0:\n",
    "        for i in range(2,10):\n",
    "            for j in range(2,10):\n",
    "                val1,val2,c = get_number([2,3,4,5,6,7,8,9],i,[i,j])\n",
    "                if c:\n",
    "                    val3,val4,c = get_number_1([2,3,4,5,6,7,8,9],(val1+val2),[val1,val2])\n",
    "                    if c:\n",
    "                        solucion = str(val1)+'+'+str(val2)+'-'+str(val3)+'/'+'1'+'*'+str(val4)\n",
    "                        if eval(solucion) == n:\n",
    "                            return solucion\n",
    "            \n",
    "    # Para los demás casos: \n",
    "    # Descompongo el número y me quedo con el cociente y el residuo\n",
    "    # La idea es llegar (acercarse) al número (que se busca) con una multiplicación, y lo que falte o le sobre o\n",
    "    # o coincida (la multiplicación con el número), se compensara con la combinación de las demás operaciones\n",
    "    # y números que tengamos disponibles\n",
    "    # Para cada caso (le falta, le sobra, es igual) tenemos un método\n",
    "    \n",
    "    for i in range(2,10):\n",
    "        solucion = '' \n",
    "        val1 = n//i\n",
    "        val2 = n%i \n",
    "        \n",
    "        if val1 ==0:\n",
    "            val1=val1+1\n",
    "            \n",
    "        for _ in range(2,9):\n",
    "            \n",
    "            if val1>=1 and val1<=9:\n",
    "                \n",
    "                # Método 1\n",
    "                val3,val4,c = get_number([2,3,4,5,6,7,8,9],(n-(val1*i)),[val1,i])\n",
    "                if c and val1 != 1 and val1 != i:\n",
    "                    solucion = str(val1)+'/'+'1'+'*'+str(i)+'+'+str(val3)+'-'+str(val4)\n",
    "                    if eval(solucion) == n:\n",
    "                        return solucion\n",
    "                \n",
    "                # Método 2\n",
    "                if val1<=8:\n",
    "                    val1_aux=val1+1\n",
    "                    \n",
    "                    if val1_aux == i and val1<=6:\n",
    "                        val1_aux=val1+2\n",
    "                    val3,val4,c = get_number([2,3,4,5,6,7,8,9],(n-(val1_aux*i)),[val1_aux,i])\n",
    "                    \n",
    "                    if c:\n",
    "                        solucion = str(val1_aux)+'/'+'1'+'*'+str(i)+'+'+str(val3)+'-'+str(val4)\n",
    "                        if eval(solucion) == n:\n",
    "                            return solucion\n",
    "                    \n",
    "                # Método 3\n",
    "                val3,val4,val5,c = get_number_0([2,3,4,5,6,7,8,9],[val1,i])\n",
    "                if c:\n",
    "                    solucion = str(val1)+'*'+str(i)+'+'+str(val3)+'/'+str(val4)+'-'+str(val5)\n",
    "                    if eval(solucion) == n:\n",
    "                        return solucion\n",
    "            \n",
    "            val1 = val1-1\n",
    "            val2 = n-(val1*i)"
   ]
  },
  {
   "cell_type": "code",
   "execution_count": 6,
   "metadata": {},
   "outputs": [],
   "source": [
    "# Buscamos una combinación que el resultado de la operacion \"num1-num2=num3\" \n",
    "# Dado una lista de posibles números, una lista con números que no pueden ser solucion y el valor que buscamos\n",
    "# devuelve la combinación de dos números, que la resta entre ellos nos da el valor que buscamos\n",
    "\n",
    "def get_number(a,n,rest):\n",
    "    i = 0\n",
    "    j = 0\n",
    "    for i in a:\n",
    "        for j in a:\n",
    "            if i!=j:\n",
    "                if i-j == n and i != j and i not in rest and j not in rest:\n",
    "                    return i,j,True\n",
    "    return i,j,False"
   ]
  },
  {
   "cell_type": "code",
   "execution_count": 7,
   "metadata": {},
   "outputs": [],
   "source": [
    "# Buscamos una combinación que el resultado de la operacion \"num1/num2-num3\" sea 0\n",
    "# Dado una lista de posibles números y una lista con números que no pueden ser solución, devuelve la combinación\n",
    "# de dos números (divididos) que den como resultado a un tercer número (los 3 números son diferentes)\n",
    "\n",
    "def get_number_0(a,rest):\n",
    "    i = 0\n",
    "    j = 0\n",
    "    n = 0\n",
    "    for n in a:\n",
    "        for i in a:\n",
    "            for j in a:\n",
    "                if i/j == n and i != j and i !=n and j !=n and i not in rest and j not in rest and n not in rest:\n",
    "                    return i,j,n,True\n",
    "    return i,j,n,False    "
   ]
  },
  {
   "cell_type": "code",
   "execution_count": 8,
   "metadata": {},
   "outputs": [],
   "source": [
    "# Buscamos una combinación que el resultado de la operacion \"num1*num2=num3\" \n",
    "# Dado una lista de posibles números, una lista con números que no pueden ser solucion y el valor que buscamos\n",
    "# devuelve la combinación de dos números, que la multiplicación entre ellos nos da el valor que buscamos\n",
    "\n",
    "def get_number_1(a,n,rest):\n",
    "    i = 0\n",
    "    j = 0\n",
    "    for i in a:\n",
    "        for j in a:\n",
    "            if i*j == n and i != j and i !=n and j !=n and i not in rest and j not in rest and n not in rest:\n",
    "                    return i,j,True\n",
    "    return i,j,False "
   ]
  },
  {
   "cell_type": "code",
   "execution_count": 9,
   "metadata": {},
   "outputs": [
    {
     "name": "stdout",
     "output_type": "stream",
     "text": [
      "·Buscamos el valor 10, resultado:  6/1*2+3-5\n",
      "·Comprovación 6/1*2+3-5 =  10.0\n"
     ]
    }
   ],
   "source": [
    "# Probamos el algoritmo\n",
    "print(\"·Buscamos el valor 10, resultado: \",p(10))\n",
    "print(\"·Comprovación 6/1*2+3-5 = \", eval('6/1*2+3-5'))"
   ]
  },
  {
   "cell_type": "markdown",
   "metadata": {
    "colab_type": "text",
    "id": "eGDB4K6uk1iN"
   },
   "source": [
    "(*)Calcula la complejidad del algoritmo "
   ]
  },
  {
   "cell_type": "markdown",
   "metadata": {
    "colab_type": "text",
    "id": "NhpTh_BPk1ms"
   },
   "source": [
    "Respuesta"
   ]
  },
  {
   "cell_type": "markdown",
   "metadata": {
    "colab": {},
    "colab_type": "code",
    "id": "nREzhkStlCq8"
   },
   "source": [
    ">La complejidad es de O(n), debido a que descomponemos el número que se busca, probando los distintos métodos dentro de un for que va de 2 a 9, el 1 y el 9 no los probamos directamente porque el 1 lo asignamos dependiendo del método, y el 9 si se utiliza, lo utilizamos des de la operacion que hacemos al dividir el número buscado (cuociente). Aunque el peor de los casos cuando la multiplicación de los dos números coincide con el número que se busca, y por lo tanto necesitamos encontrar un 0 y llamamos el método get_number_0 de complejidad O(n^3), donde n es una lista de 8 números, no es de 9, porque descartamos el 1."
   ]
  },
  {
   "cell_type": "markdown",
   "metadata": {
    "colab_type": "text",
    "id": "3M6QjTsSkmYe"
   },
   "source": [
    "Según el problema (y tenga sentido), diseña un juego de datos de entrada aleatorios"
   ]
  },
  {
   "cell_type": "markdown",
   "metadata": {
    "colab_type": "text",
    "id": "Jc3_OlyNkvjZ"
   },
   "source": [
    "Respuesta"
   ]
  },
  {
   "cell_type": "code",
   "execution_count": 10,
   "metadata": {
    "colab": {},
    "colab_type": "code",
    "id": "sJ-N2etjkyWc",
    "scrolled": false
   },
   "outputs": [
    {
     "name": "stdout",
     "output_type": "stream",
     "text": [
      "[0, 1, 2, 3, 4, 5, 6, 7, 8, 9, 10, 11, 12, 13, 14, 15, 16, 17, 18, 19, 20, 21, 22, 23, 24, 25, 26, 27, 28, 29, 30, 31, 32, 33, 34, 35, 36, 37, 38, 39, 40, 41, 42, 43, 44, 45, 46, 47, 48, 49, 50, 51, 52, 53, 54, 55, 56, 57, 58, 59, 60, 61, 62, 63, 64, 65, 66, 67, 68, 69, 70, 71, 72, 73, 74, 75, 76, 77]\n"
     ]
    }
   ],
   "source": [
    "# Todos los números que podemos llegar a dar como resultado (con las condiciones que nos dan)\n",
    "l = []\n",
    "for i in range(0,78):\n",
    "    l.append(i)\n",
    "print(l)"
   ]
  },
  {
   "cell_type": "markdown",
   "metadata": {
    "colab_type": "text",
    "id": "zy5ZROmjlGo1"
   },
   "source": [
    "Aplica el algoritmo al juego de datos generado"
   ]
  },
  {
   "cell_type": "markdown",
   "metadata": {
    "colab_type": "text",
    "id": "_Cmj-PVylMsa"
   },
   "source": [
    "Respuesta"
   ]
  },
  {
   "cell_type": "code",
   "execution_count": 11,
   "metadata": {
    "colab": {},
    "colab_type": "code",
    "id": "Jkx8GeiYlUz1"
   },
   "outputs": [
    {
     "name": "stdout",
     "output_type": "stream",
     "text": [
      "Número: 0 Resultado: 5+3-2/1*4 = 0.0 (evaluación)\n",
      "Número: 1 Resultado: 3/1*2+4-9 = 1.0 (evaluación)\n",
      "Número: 2 Resultado: 3/1*2+4-8 = 2.0 (evaluación)\n",
      "Número: 3 Resultado: 3/1*2+4-7 = 3.0 (evaluación)\n",
      "Número: 4 Resultado: 3/1*2+4-6 = 4.0 (evaluación)\n",
      "Número: 5 Resultado: 3/1*2+4-5 = 5.0 (evaluación)\n",
      "Número: 6 Resultado: 4/1*2+3-5 = 6.0 (evaluación)\n",
      "Número: 7 Resultado: 3/1*2+5-4 = 7.0 (evaluación)\n",
      "Número: 8 Resultado: 5/1*2+4-6 = 8.0 (evaluación)\n",
      "Número: 9 Resultado: 4/1*2+6-5 = 9.0 (evaluación)\n",
      "Número: 10 Resultado: 6/1*2+3-5 = 10.0 (evaluación)\n",
      "Número: 11 Resultado: 5/1*2+4-3 = 11.0 (evaluación)\n",
      "Número: 12 Resultado: 7/1*2+3-5 = 12.0 (evaluación)\n",
      "Número: 13 Resultado: 6/1*2+4-3 = 13.0 (evaluación)\n",
      "Número: 14 Resultado: 8/1*2+3-5 = 14.0 (evaluación)\n",
      "Número: 15 Resultado: 7/1*2+4-3 = 15.0 (evaluación)\n",
      "Número: 16 Resultado: 9/1*2+3-5 = 16.0 (evaluación)\n",
      "Número: 17 Resultado: 8/1*2+4-3 = 17.0 (evaluación)\n",
      "Número: 18 Resultado: 8/1*2+5-3 = 18.0 (evaluación)\n",
      "Número: 19 Resultado: 9/1*2+4-3 = 19.0 (evaluación)\n",
      "Número: 20 Resultado: 9/1*2+5-3 = 20.0 (evaluación)\n",
      "Número: 21 Resultado: 9/1*2+6-3 = 21.0 (evaluación)\n",
      "Número: 22 Resultado: 9/1*2+7-3 = 22.0 (evaluación)\n",
      "Número: 23 Resultado: 9/1*2+8-3 = 23.0 (evaluación)\n",
      "Número: 24 Resultado: 9/1*3+2-5 = 24.0 (evaluación)\n",
      "Número: 25 Resultado: 8/1*3+5-4 = 25.0 (evaluación)\n",
      "Número: 26 Resultado: 8/1*3+4-2 = 26.0 (evaluación)\n",
      "Número: 27 Resultado: 9*3+8/4-2 = 27.0 (evaluación)\n",
      "Número: 28 Resultado: 9/1*3+5-4 = 28.0 (evaluación)\n",
      "Número: 29 Resultado: 9/1*3+4-2 = 29.0 (evaluación)\n",
      "Número: 30 Resultado: 9/1*3+5-2 = 30.0 (evaluación)\n",
      "Número: 31 Resultado: 9/1*3+6-2 = 31.0 (evaluación)\n",
      "Número: 32 Resultado: 9/1*3+7-2 = 32.0 (evaluación)\n",
      "Número: 33 Resultado: 9/1*3+8-2 = 33.0 (evaluación)\n",
      "Número: 34 Resultado: 8/1*4+5-3 = 34.0 (evaluación)\n",
      "Número: 35 Resultado: 8/1*4+5-2 = 35.0 (evaluación)\n",
      "Número: 36 Resultado: 9*4+6/3-2 = 36.0 (evaluación)\n",
      "Número: 37 Resultado: 9/1*4+3-2 = 37.0 (evaluación)\n",
      "Número: 38 Resultado: 9/1*4+5-3 = 38.0 (evaluación)\n",
      "Número: 39 Resultado: 9/1*4+5-2 = 39.0 (evaluación)\n",
      "Número: 40 Resultado: 9/1*4+6-2 = 40.0 (evaluación)\n",
      "Número: 41 Resultado: 9/1*4+7-2 = 41.0 (evaluación)\n",
      "Número: 42 Resultado: 9/1*4+8-2 = 42.0 (evaluación)\n",
      "Número: 43 Resultado: 8/1*5+6-3 = 43.0 (evaluación)\n",
      "Número: 44 Resultado: 8/1*5+6-2 = 44.0 (evaluación)\n",
      "Número: 45 Resultado: 9*5+6/3-2 = 45.0 (evaluación)\n",
      "Número: 46 Resultado: 9/1*5+3-2 = 46.0 (evaluación)\n",
      "Número: 47 Resultado: 9/1*5+4-2 = 47.0 (evaluación)\n",
      "Número: 48 Resultado: 9/1*5+6-3 = 48.0 (evaluación)\n",
      "Número: 49 Resultado: 9/1*5+6-2 = 49.0 (evaluación)\n",
      "Número: 50 Resultado: 9/1*5+7-2 = 50.0 (evaluación)\n",
      "Número: 51 Resultado: 9/1*5+8-2 = 51.0 (evaluación)\n",
      "Número: 52 Resultado: 8/1*6+7-3 = 52.0 (evaluación)\n",
      "Número: 53 Resultado: 8/1*6+7-2 = 53.0 (evaluación)\n",
      "Número: 54 Resultado: 9*6+8/4-2 = 54.0 (evaluación)\n",
      "Número: 55 Resultado: 9/1*6+3-2 = 55.0 (evaluación)\n",
      "Número: 56 Resultado: 9/1*6+4-2 = 56.0 (evaluación)\n",
      "Número: 57 Resultado: 9/1*6+5-2 = 57.0 (evaluación)\n",
      "Número: 58 Resultado: 9/1*6+7-3 = 58.0 (evaluación)\n",
      "Número: 59 Resultado: 9/1*6+7-2 = 59.0 (evaluación)\n",
      "Número: 60 Resultado: 9/1*6+8-2 = 60.0 (evaluación)\n",
      "Número: 61 Resultado: 8/1*7+9-4 = 61.0 (evaluación)\n",
      "Número: 62 Resultado: 8/1*7+9-3 = 62.0 (evaluación)\n",
      "Número: 63 Resultado: 9*7+6/3-2 = 63.0 (evaluación)\n",
      "Número: 64 Resultado: 9/1*7+3-2 = 64.0 (evaluación)\n",
      "Número: 65 Resultado: 9/1*7+4-2 = 65.0 (evaluación)\n",
      "Número: 66 Resultado: 9/1*7+5-2 = 66.0 (evaluación)\n",
      "Número: 67 Resultado: 9/1*7+6-2 = 67.0 (evaluación)\n",
      "Número: 68 Resultado: 9/1*7+8-3 = 68.0 (evaluación)\n",
      "Número: 69 Resultado: 9/1*7+8-2 = 69.0 (evaluación)\n",
      "Número: 70 Resultado: 9/1*8+2-4 = 70.0 (evaluación)\n",
      "Número: 71 Resultado: 9/1*8+2-3 = 71.0 (evaluación)\n",
      "Número: 72 Resultado: 9*8+6/3-2 = 72.0 (evaluación)\n",
      "Número: 73 Resultado: 9/1*8+3-2 = 73.0 (evaluación)\n",
      "Número: 74 Resultado: 9/1*8+4-2 = 74.0 (evaluación)\n",
      "Número: 75 Resultado: 9/1*8+5-2 = 75.0 (evaluación)\n",
      "Número: 76 Resultado: 9/1*8+6-2 = 76.0 (evaluación)\n",
      "Número: 77 Resultado: 9/1*8+7-2 = 77.0 (evaluación)\n"
     ]
    }
   ],
   "source": [
    "# Resultados\n",
    "res = []\n",
    "for i in l:\n",
    "    x = p(i)\n",
    "    res.append(x)\n",
    "    print(\"Número:\",i,\"Resultado:\",x,\"=\",eval(x),\"(evaluación)\")"
   ]
  },
  {
   "cell_type": "code",
   "execution_count": 12,
   "metadata": {},
   "outputs": [],
   "source": [
    "# Comprobación de si hay algun número repetido en las soluciónes\n",
    "def comprobacion(res):\n",
    "    a = False\n",
    "    for i in res:\n",
    "        elem = []\n",
    "        for j in i:\n",
    "            if j in elem:\n",
    "                print('error:',i,'valor repetido:',j)\n",
    "                a = True\n",
    "            else:\n",
    "                elem.append(j) \n",
    "    if a==False:\n",
    "        print('correcto')"
   ]
  },
  {
   "cell_type": "code",
   "execution_count": 13,
   "metadata": {},
   "outputs": [
    {
     "name": "stdout",
     "output_type": "stream",
     "text": [
      "error: [2, 2] valor repetido: 2\n",
      "error: [3, 1, 2, 4, 4] valor repetido: 4\n"
     ]
    }
   ],
   "source": [
    "# Prueba del algoritmo de comprobación (en una lista de ejemplo que hay valores repetidos a proposito)\n",
    "prueba_comprobacion = [[2,2],[3,1,2,4,4]] \n",
    "comprobacion(prueba_comprobacion)"
   ]
  },
  {
   "cell_type": "code",
   "execution_count": 14,
   "metadata": {},
   "outputs": [
    {
     "name": "stdout",
     "output_type": "stream",
     "text": [
      "correcto\n"
     ]
    }
   ],
   "source": [
    "# Comprobación con todas las soluciones encontradas\n",
    "comprobacion(res)"
   ]
  },
  {
   "cell_type": "markdown",
   "metadata": {},
   "source": [
    "> Comprobamos que no tenemos ningun error en las soluciones."
   ]
  },
  {
   "cell_type": "markdown",
   "metadata": {
    "colab_type": "text",
    "id": "eTFWUJQrtGcv"
   },
   "source": [
    "Enumera las referencias que has utilizado(si ha sido necesario) para llevar a cabo el trabajo"
   ]
  },
  {
   "cell_type": "markdown",
   "metadata": {
    "colab_type": "text",
    "id": "YKQ_mRBttWsP"
   },
   "source": [
    "Respuesta"
   ]
  },
  {
   "cell_type": "markdown",
   "metadata": {},
   "source": [
    "> Cualquier resultado de Google que me resolviera las dudas que tenia a la hora de aplicar una función."
   ]
  },
  {
   "cell_type": "markdown",
   "metadata": {
    "colab_type": "text",
    "id": "kAkDPUyRtYyH"
   },
   "source": [
    "Describe brevemente las lineas de como crees que es posible avanzar en el estudio del problema. Ten en cuenta incluso posibles variaciones del problema y/o variaciones al alza del tamaño"
   ]
  },
  {
   "cell_type": "markdown",
   "metadata": {
    "colab_type": "text",
    "id": "IE0uZmo-tZu-"
   },
   "source": [
    "Respuesta"
   ]
  },
  {
   "cell_type": "markdown",
   "metadata": {},
   "source": [
    "> Si en vez del 1 al 9, es de 1 a un valor más grande que 9 (de 1 a 100 por ejemplo), tendriamos que ajustar los métodos (propuestos en el algoritmo) para que se adapten a otra escala."
   ]
  }
 ],
 "metadata": {
  "colab": {
   "collapsed_sections": [],
   "name": "Seminario - Algoritmos.ipynb",
   "provenance": [],
   "version": "0.3.2"
  },
  "kernelspec": {
   "display_name": "Python 3",
   "language": "python",
   "name": "python3"
  },
  "language_info": {
   "codemirror_mode": {
    "name": "ipython",
    "version": 3
   },
   "file_extension": ".py",
   "mimetype": "text/x-python",
   "name": "python",
   "nbconvert_exporter": "python",
   "pygments_lexer": "ipython3",
   "version": "3.7.3"
  }
 },
 "nbformat": 4,
 "nbformat_minor": 1
}
