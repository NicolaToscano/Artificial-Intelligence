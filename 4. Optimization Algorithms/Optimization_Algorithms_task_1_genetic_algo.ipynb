{
 "cells": [
  {
   "cell_type": "markdown",
   "metadata": {},
   "source": [
    "# Algoritmos de optimización - Seminario\n",
    "\n",
    "#### Nico Toscano\n",
    "\n",
    "#### URL: https://github.com/NicolaiOcin/03MAIR---Algoritmos-de-Optimizacion---2019/tree/master/SEM          "
   ]
  },
  {
   "cell_type": "code",
   "execution_count": 1,
   "metadata": {},
   "outputs": [],
   "source": [
    "# Librerias\n",
    "import random\n",
    "import copy\n",
    "import itertools\n",
    "from time import time\n",
    "from functools import wraps\n",
    "\n",
    "def calcular_tiempo(f):\n",
    "    @wraps(f)\n",
    "    def cronometro(*args, **kwargs):\n",
    "        t_inicial = time()\n",
    "        salida = f(*args, **kwargs)\n",
    "        t_final = time()\n",
    "        print('Tiempo transcurrido (en segundos): {}'.format(t_final - t_inicial))\n",
    "        return salida\n",
    "    return cronometro"
   ]
  },
  {
   "cell_type": "code",
   "execution_count": 11,
   "metadata": {},
   "outputs": [],
   "source": [
    "# Equipos\n",
    "Equipos = {'A':['Eq1','Eq2','Eq3','Eq4'], 'B':['Eq5','Eq6','Eq7','Eq8','Eq9','Eq10','Eq11','Eq12','Eq13','Eq14'], \n",
    "      'C':['Eq15','Eq16','Eq17','Eq18','Eq19','Eq20']}\n",
    "Equipos_lista = ['Eq1','Eq2','Eq3','Eq4','Eq5','Eq6','Eq7','Eq8','Eq9','Eq10','Eq11','Eq12','Eq13','Eq14','Eq15',\n",
    "                'Eq16','Eq17','Eq18','Eq19','Eq20']"
   ]
  },
  {
   "cell_type": "code",
   "execution_count": 14,
   "metadata": {},
   "outputs": [],
   "source": [
    "# Ejemplo de un resultado de una jornada (colacación de los partidos en los distintos horarios posibles) \n",
    "Results = { 'V20':['Eq1','Eq2'],\n",
    "            'S12':['Eq3','Eq4'], \n",
    "            'S16':['Eq5','Eq6'],\n",
    "            'S18':['Eq7','Eq8'],\n",
    "            'S20':['Eq9','Eq10'],\n",
    "            'D12':['Eq11','Eq12'],\n",
    "            'D16':['Eq13','Eq14'], \n",
    "            'D18':['Eq15','Eq16'],\n",
    "            'D20':['Eq17','Eq18'],\n",
    "            'L20':['Eq19','Eq20']}"
   ]
  },
  {
   "cell_type": "code",
   "execution_count": 21,
   "metadata": {},
   "outputs": [
    {
     "data": {
      "text/plain": [
       "['V20', 'S12', 'S16', 'S18', 'S20', 'D12', 'D16', 'D18', 'D20', 'L20']"
      ]
     },
     "execution_count": 21,
     "metadata": {},
     "output_type": "execute_result"
    }
   ],
   "source": [
    "# Claves del diccionario de Results (todos los posibles horarios)\n",
    "key_names = list(Results.keys())\n",
    "key_names"
   ]
  },
  {
   "cell_type": "code",
   "execution_count": 16,
   "metadata": {},
   "outputs": [],
   "source": [
    "# Creación de una jornada aleatoria\n",
    "def generar_jornada():\n",
    "    j = []\n",
    "    Equipos_lista_copy = copy.deepcopy(Equipos_lista)\n",
    "    for i in range(10):\n",
    "        x = random.sample(Equipos_lista_copy,2)\n",
    "        j.append(x)\n",
    "        Equipos_lista_copy.remove(x[0])\n",
    "        Equipos_lista_copy.remove(x[1])\n",
    "    return j"
   ]
  },
  {
   "cell_type": "code",
   "execution_count": 39,
   "metadata": {},
   "outputs": [
    {
     "data": {
      "text/plain": [
       "[['Eq19', 'Eq9'],\n",
       " ['Eq8', 'Eq5'],\n",
       " ['Eq15', 'Eq17'],\n",
       " ['Eq6', 'Eq1'],\n",
       " ['Eq7', 'Eq20'],\n",
       " ['Eq12', 'Eq4'],\n",
       " ['Eq16', 'Eq10'],\n",
       " ['Eq3', 'Eq18'],\n",
       " ['Eq11', 'Eq13'],\n",
       " ['Eq2', 'Eq14']]"
      ]
     },
     "execution_count": 39,
     "metadata": {},
     "output_type": "execute_result"
    }
   ],
   "source": [
    "# Ejemplo de una jornada aleatoria\n",
    "j = generar_jornada()\n",
    "j"
   ]
  },
  {
   "cell_type": "code",
   "execution_count": 22,
   "metadata": {},
   "outputs": [],
   "source": [
    "# Para pasar de lista a diccionario (le pasamos la lista y las claves del diccionario)\n",
    "def dic(sol,keys):\n",
    "    r = {}\n",
    "    d = len(sol)-len(keys)\n",
    "    if d>0:\n",
    "        key_names_copy =copy.deepcopy(key_names)\n",
    "        for i in key_names_copy:\n",
    "            if i in keys:\n",
    "                key_names_copy.remove(i)\n",
    "        keys = keys + key_names_copy\n",
    "        \n",
    "    for i in range(len(sol)):\n",
    "        if i == (len(sol)-1) and keys[i] != 'L20' and 'L20' not in keys:\n",
    "            r.update( {'L20' : sol[i]} )\n",
    "        else:\n",
    "            r.update( {keys[i] : sol[i]} )\n",
    "        \n",
    "    return r"
   ]
  },
  {
   "cell_type": "code",
   "execution_count": 40,
   "metadata": {},
   "outputs": [
    {
     "data": {
      "text/plain": [
       "{'V20': ['Eq19', 'Eq9'],\n",
       " 'S12': ['Eq8', 'Eq5'],\n",
       " 'S16': ['Eq15', 'Eq17'],\n",
       " 'S18': ['Eq6', 'Eq1'],\n",
       " 'S20': ['Eq7', 'Eq20'],\n",
       " 'D12': ['Eq12', 'Eq4'],\n",
       " 'D16': ['Eq16', 'Eq10'],\n",
       " 'D18': ['Eq3', 'Eq18'],\n",
       " 'D20': ['Eq11', 'Eq13'],\n",
       " 'L20': ['Eq2', 'Eq14']}"
      ]
     },
     "execution_count": 40,
     "metadata": {},
     "output_type": "execute_result"
    }
   ],
   "source": [
    "# Ejemplo de pasar la lista de la jornada (que hemos generado aleatoriamente) como solucion misma, y la pasamos a diccionario\n",
    "dic_ej = dic(j,key_names)\n",
    "dic_ej"
   ]
  },
  {
   "cell_type": "code",
   "execution_count": 23,
   "metadata": {},
   "outputs": [],
   "source": [
    "# Pasar de un diccionario a una lista\n",
    "def dic_inv(sol):\n",
    "    kn = list(sol.keys())\n",
    "    r = []\n",
    "    for i in range(len(kn)):\n",
    "        r.append(sol[kn[i]])\n",
    "    return r"
   ]
  },
  {
   "cell_type": "code",
   "execution_count": 41,
   "metadata": {},
   "outputs": [
    {
     "data": {
      "text/plain": [
       "[['Eq19', 'Eq9'],\n",
       " ['Eq8', 'Eq5'],\n",
       " ['Eq15', 'Eq17'],\n",
       " ['Eq6', 'Eq1'],\n",
       " ['Eq7', 'Eq20'],\n",
       " ['Eq12', 'Eq4'],\n",
       " ['Eq16', 'Eq10'],\n",
       " ['Eq3', 'Eq18'],\n",
       " ['Eq11', 'Eq13'],\n",
       " ['Eq2', 'Eq14']]"
      ]
     },
     "execution_count": 41,
     "metadata": {},
     "output_type": "execute_result"
    }
   ],
   "source": [
    "# Ejemplo de pasar la solución diccionario (de la jornada generada aleatoriamente) a lista\n",
    "dic_inv_ej = dic_inv(dic_ej)\n",
    "dic_inv_ej"
   ]
  },
  {
   "cell_type": "code",
   "execution_count": 44,
   "metadata": {},
   "outputs": [],
   "source": [
    "# Creación de una solución aleatoria sin coincidencias de partidos (le pasamos una jornada)\n",
    "def crear_solucion(lequipos):\n",
    "    r = {}\n",
    "    equipos_s = copy.deepcopy(lequipos)\n",
    "    for i in key_names:\n",
    "        x = random.choice(equipos_s)\n",
    "        r.update( {i : x} )\n",
    "        equipos_s.remove(x)\n",
    "    return r"
   ]
  },
  {
   "cell_type": "code",
   "execution_count": 48,
   "metadata": {},
   "outputs": [
    {
     "data": {
      "text/plain": [
       "{'V20': ['Eq11', 'Eq13'],\n",
       " 'S12': ['Eq16', 'Eq10'],\n",
       " 'S16': ['Eq12', 'Eq4'],\n",
       " 'S18': ['Eq19', 'Eq9'],\n",
       " 'S20': ['Eq15', 'Eq17'],\n",
       " 'D12': ['Eq8', 'Eq5'],\n",
       " 'D16': ['Eq7', 'Eq20'],\n",
       " 'D18': ['Eq3', 'Eq18'],\n",
       " 'D20': ['Eq2', 'Eq14'],\n",
       " 'L20': ['Eq6', 'Eq1']}"
      ]
     },
     "execution_count": 48,
     "metadata": {},
     "output_type": "execute_result"
    }
   ],
   "source": [
    "# Ejemplo de solucion sin coincidencias de partidos\n",
    "solucion_ej = crear_solucion(j)\n",
    "solucion_ej"
   ]
  },
  {
   "cell_type": "code",
   "execution_count": 71,
   "metadata": {},
   "outputs": [],
   "source": [
    "# Creación de una solución aleatoria con coincidencias de partidos (le pasamos una jornada). Siempre asignando un partido\n",
    "# a V20 y L20 como se indica en el problema\n",
    "def crear_solucion_c(jornada):\n",
    "    r = {}\n",
    "    jornada_copy = copy.deepcopy(jornada)\n",
    "    for i in range(len(jornada)):\n",
    "        if len(jornada_copy)<=2 and 'L20' not in r:\n",
    "            x = jornada_copy\n",
    "            if len(x)==1:\n",
    "                r.update( {'L20' : x[0]} )\n",
    "            else:\n",
    "                r.update( {'L20' : x} )\n",
    "            break\n",
    "        if len(jornada_copy)>2:\n",
    "            if random.getrandbits(1):\n",
    "                val_r = random.randint(2,(len(jornada_copy)-1))\n",
    "                x = random.sample(jornada_copy,val_r)\n",
    "                r.update( {key_names[i] : x} )\n",
    "                for j in x:\n",
    "                    jornada_copy.remove(j)\n",
    "            else:\n",
    "                x = random.choice(jornada_copy)\n",
    "                r.update( {key_names[i] : x} )\n",
    "                jornada_copy.remove(x)\n",
    "    return r"
   ]
  },
  {
   "cell_type": "code",
   "execution_count": 72,
   "metadata": {},
   "outputs": [
    {
     "data": {
      "text/plain": [
       "{'V20': ['Eq8', 'Eq5'],\n",
       " 'S12': [['Eq7', 'Eq20'], ['Eq3', 'Eq18'], ['Eq15', 'Eq17'], ['Eq16', 'Eq10']],\n",
       " 'S16': ['Eq2', 'Eq14'],\n",
       " 'S18': ['Eq12', 'Eq4'],\n",
       " 'S20': ['Eq11', 'Eq13'],\n",
       " 'L20': [['Eq19', 'Eq9'], ['Eq6', 'Eq1']]}"
      ]
     },
     "execution_count": 72,
     "metadata": {},
     "output_type": "execute_result"
    }
   ],
   "source": [
    "# Ejemplo de solucion sin coincidencias de partidos\n",
    "solucion_c_ej = crear_solucion_c(j)\n",
    "solucion_c_ej"
   ]
  },
  {
   "cell_type": "code",
   "execution_count": 43,
   "metadata": {},
   "outputs": [],
   "source": [
    "# Cantidad de partidos que hay en una solución (de un diccionario). Esto es para comprobar que haya el número de partidos\n",
    "# correcto en la soluciones que proponemos (10 partidos)\n",
    "def tamaño(results):\n",
    "    a = dic_inv(results)\n",
    "    suma = 0\n",
    "    for i in a:\n",
    "        for j in i:\n",
    "            if j[0]=='E':\n",
    "                suma += 1\n",
    "                break\n",
    "            else:\n",
    "                suma +=1\n",
    "    return suma"
   ]
  },
  {
   "cell_type": "code",
   "execution_count": 77,
   "metadata": {},
   "outputs": [
    {
     "name": "stdout",
     "output_type": "stream",
     "text": [
      "·Número partidos solución sin coincidencias: 10\n",
      "·Número partidos solución con coincidencias: 10\n"
     ]
    }
   ],
   "source": [
    "# Ejemplo cantidad de partidos en las soluciones aleatorias\n",
    "t_ej_1 = tamaño(solucion_ej) # solución sin coincidencias\n",
    "t_ej_2 = tamaño(solucion_c_ej) # solución con coincidencias\n",
    "print(\"·Número partidos solución sin coincidencias:\",t_ej_1)\n",
    "print(\"·Número partidos solución con coincidencias:\",t_ej_2)"
   ]
  },
  {
   "cell_type": "code",
   "execution_count": 28,
   "metadata": {},
   "outputs": [],
   "source": [
    "# Lista de partidos en una solucion (de un diccionario)\n",
    "def partidos_lista(results):\n",
    "    kn = list(results.keys())\n",
    "    elem = []\n",
    "    for i in kn:\n",
    "        for j in results[i]:\n",
    "            if j[0] == 'E':\n",
    "                elem.append(results[i])\n",
    "                break\n",
    "            else:\n",
    "                elem.append(j)\n",
    "    return elem"
   ]
  },
  {
   "cell_type": "code",
   "execution_count": 127,
   "metadata": {},
   "outputs": [
    {
     "name": "stdout",
     "output_type": "stream",
     "text": [
      "·Lista partidos solución sin coincidencias: \n",
      "\n"
     ]
    },
    {
     "data": {
      "text/plain": [
       "[['Eq11', 'Eq13'],\n",
       " ['Eq16', 'Eq10'],\n",
       " ['Eq12', 'Eq4'],\n",
       " ['Eq19', 'Eq9'],\n",
       " ['Eq15', 'Eq17'],\n",
       " ['Eq8', 'Eq5'],\n",
       " ['Eq7', 'Eq20'],\n",
       " ['Eq3', 'Eq18'],\n",
       " ['Eq2', 'Eq14'],\n",
       " ['Eq6', 'Eq1']]"
      ]
     },
     "execution_count": 127,
     "metadata": {},
     "output_type": "execute_result"
    }
   ],
   "source": [
    "# Ejemplo de partidos en las soluciones aleatorias\n",
    "partidos_ej_1 = partidos_lista(solucion_ej) # solución sin coincidencias\n",
    "partidos_ej_2 = partidos_lista(solucion_c_ej) # solución con coincidencias\n",
    "print(\"·Lista partidos solución sin coincidencias: \\n\")\n",
    "partidos_ej_1"
   ]
  },
  {
   "cell_type": "code",
   "execution_count": 129,
   "metadata": {},
   "outputs": [
    {
     "name": "stdout",
     "output_type": "stream",
     "text": [
      "·Lista partidos solución con coincidencias:\n"
     ]
    },
    {
     "data": {
      "text/plain": [
       "[['Eq8', 'Eq5'],\n",
       " ['Eq7', 'Eq20'],\n",
       " ['Eq3', 'Eq18'],\n",
       " ['Eq15', 'Eq17'],\n",
       " ['Eq16', 'Eq10'],\n",
       " ['Eq2', 'Eq14'],\n",
       " ['Eq12', 'Eq4'],\n",
       " ['Eq11', 'Eq13'],\n",
       " ['Eq19', 'Eq9'],\n",
       " ['Eq6', 'Eq1']]"
      ]
     },
     "execution_count": 129,
     "metadata": {},
     "output_type": "execute_result"
    }
   ],
   "source": [
    "print(\"·Lista partidos solución con coincidencias:\")\n",
    "partidos_ej_2"
   ]
  },
  {
   "cell_type": "code",
   "execution_count": 80,
   "metadata": {},
   "outputs": [],
   "source": [
    "# Para juntar 2 diccionarios\n",
    "def merge_two_dicts(x, y):\n",
    "    z = x.copy()   \n",
    "    z.update(y)    \n",
    "    return z"
   ]
  },
  {
   "cell_type": "code",
   "execution_count": 94,
   "metadata": {},
   "outputs": [],
   "source": [
    "# Comprobación de si el resultado es correcto segun las restricciones\n",
    "def comprobacion(results):\n",
    "    a = False\n",
    "    elem = []\n",
    "    c = dic_inv(results)\n",
    "    for i in c:\n",
    "        if len(i)==0:\n",
    "            return True\n",
    "        for j in i:\n",
    "            if len(j)>1 and len(j)<=2:\n",
    "                if (j[0] or j[1]) in elem:\n",
    "                    a = True\n",
    "        \n",
    "            else:\n",
    "                if j in elem:\n",
    "                    a = True\n",
    "        \n",
    "            if len(j)>1 and len(j)<=2:\n",
    "                elem.append(j[0]) \n",
    "                elem.append(j[1]) \n",
    "            else:\n",
    "                elem.append(j)\n",
    "    t = tamaño(results)\n",
    "\n",
    "    if a:\n",
    "        return True\n",
    "    if a==False:\n",
    "        return False    "
   ]
  },
  {
   "cell_type": "code",
   "execution_count": 101,
   "metadata": {},
   "outputs": [
    {
     "name": "stdout",
     "output_type": "stream",
     "text": [
      "·Comprobación solución sin coincidencias: False\n",
      "·Comprobación solución con coincidencias: False\n",
      "Nota: falso es que la solución es correcta\n"
     ]
    }
   ],
   "source": [
    "# Ejemplo comprobación de las soluciones aleatorias\n",
    "comprobacion_ej_1 = comprobacion(solucion_ej) # solución sin coincidencias\n",
    "comprobacion_ej_2 = comprobacion(solucion_c_ej) # solución con coincidencias\n",
    "print(\"·Comprobación solución sin coincidencias:\",comprobacion_ej_1)\n",
    "print(\"·Comprobación solución con coincidencias:\",comprobacion_ej_2)\n",
    "print(\"Nota: falso es que la solución es correcta\")"
   ]
  },
  {
   "cell_type": "code",
   "execution_count": 109,
   "metadata": {},
   "outputs": [],
   "source": [
    "# Coeficientes segun las categorias de equipos\n",
    "def cat(E1,E2):\n",
    "    if E1 in Equipos['A'] and E2 in Equipos['A']:\n",
    "        return 2\n",
    "    if E1 in Equipos['A'] and E2 in Equipos['B']:\n",
    "        return 1.3\n",
    "    if E1 in Equipos['A'] and E2 in Equipos['C']:\n",
    "        return 1\n",
    "    if E1 in Equipos['B'] and E2 in Equipos['A']:\n",
    "        return 1.3 \n",
    "    if E1 in Equipos['B'] and E2 in Equipos['B']:\n",
    "        return 0.9  \n",
    "    if E1 in Equipos['B'] and E2 in Equipos['C']:\n",
    "        return 0.75\n",
    "    if E1 in Equipos['C'] and E2 in Equipos['A']:\n",
    "        return 1\n",
    "    if E1 in Equipos['C'] and E2 in Equipos['B']:\n",
    "        return 0.75\n",
    "    if E1 in Equipos['C'] and E2 in Equipos['C']:\n",
    "        return 0.47  "
   ]
  },
  {
   "cell_type": "code",
   "execution_count": 110,
   "metadata": {},
   "outputs": [],
   "source": [
    "# Coeficientes segun el horario que se asigna el partido\n",
    "def coef(results):\n",
    "    kn = list(results.keys())\n",
    "    if 'V20' in kn:\n",
    "        results.update( {'V20' : [x * 0.4 for x in results['V20']]} )\n",
    "    if 'S12' in kn:\n",
    "        results.update( {'S12' : [x * 0.55 for x in results['S12']]} ) \n",
    "    if 'S16' in kn:\n",
    "        results.update( {'S16' : [x * 0.7 for x in results['S16']]} )    \n",
    "    if 'S18' in kn:\n",
    "         results.update( {'S18' : [x * 0.8 for x in results['S18']]} )\n",
    "    if 'S20' in kn:\n",
    "         results.update( {'S20' : [x * 1 for x in results['S20']]} )\n",
    "    if 'D12' in kn:\n",
    "         results.update( {'D12' : [x * 0.45 for x in results['D12']]} )   \n",
    "    if 'D16' in kn:\n",
    "         results.update( {'D16' : [x * 0.75 for x in results['D16']]} )\n",
    "    if 'D18' in kn:\n",
    "         results.update( {'D18' : [x * 0.5 for x in results['D18']]} )\n",
    "    if 'D20' in kn:\n",
    "         results.update( {'D20' : [x * 1 for x in results['D20']]} )\n",
    "    if 'L20' in kn:\n",
    "         results.update( {'L20' : [x * 0.4 for x in results['L20']]} )\n",
    "    return results"
   ]
  },
  {
   "cell_type": "code",
   "execution_count": 111,
   "metadata": {},
   "outputs": [],
   "source": [
    "# Coeficientes segun si hay concidencias en un horario\n",
    "def coef_c(results):\n",
    "    kn = list(results.keys())\n",
    "    for i in kn:\n",
    "        d = len(results[i])\n",
    "       \n",
    "        if d == 1:\n",
    "             c = 1\n",
    "        else:\n",
    "            if d == 2:\n",
    "                c = 1-0.25\n",
    "            if d == 3:\n",
    "                c = 1-0.45\n",
    "            if d == 4:\n",
    "                c = 1-0.6\n",
    "            if d == 5:\n",
    "                c = 1-0.7\n",
    "            if d == 6:\n",
    "                c = 1-0.75\n",
    "            if d == 7:\n",
    "                c = 1-0.78\n",
    "            if d >= 8:\n",
    "                c = 1-0.8\n",
    "        results[i] = [x * c for x in results[i] ]\n",
    "    return results"
   ]
  },
  {
   "cell_type": "code",
   "execution_count": 112,
   "metadata": {},
   "outputs": [],
   "source": [
    "# Sumar los elementos de una lista\n",
    "def suma(results):\n",
    "    a = dic_inv(results)\n",
    "    suma = 0\n",
    "    for i in a:\n",
    "        for j in i:\n",
    "            suma += j\n",
    "    return suma"
   ]
  },
  {
   "cell_type": "code",
   "execution_count": 115,
   "metadata": {},
   "outputs": [],
   "source": [
    "# Valor de una solución (espectadores)\n",
    "def valor(results):\n",
    "    r = {}\n",
    "    kn = list(results.keys())\n",
    "    for i in kn:\n",
    "        if results[i][0][0] == 'E':\n",
    "            temp = cat(results[i][0], results[i][1])\n",
    "            r.update( {i : [temp]} )\n",
    "        else:\n",
    "            temp_list = []\n",
    "            for j in results[i]:\n",
    "                temp = cat(j[0], j[1])\n",
    "                temp_list.append(temp)\n",
    "            r.update( {i : temp_list} )\n",
    "    r2 = coef(r)\n",
    "    r3 = coef_c(r2)\n",
    "    val = suma(r3)\n",
    "    return round(val,3)"
   ]
  },
  {
   "cell_type": "code",
   "execution_count": 116,
   "metadata": {},
   "outputs": [
    {
     "name": "stdout",
     "output_type": "stream",
     "text": [
      "·Valor solución sin coincidencias: 6.04\n",
      "·Valor solución con coincidencias: 4.478\n"
     ]
    }
   ],
   "source": [
    "# Ejemplo de calcular el valor de las soluciones aleatorias\n",
    "valor_ej_1 = valor(solucion_ej) # solución sin coincidencias\n",
    "valor_ej_2 = valor(solucion_c_ej) # solución con coincidencias\n",
    "print(\"·Valor solución sin coincidencias:\",valor_ej_1)\n",
    "print(\"·Valor solución con coincidencias:\",valor_ej_2)"
   ]
  },
  {
   "cell_type": "code",
   "execution_count": 130,
   "metadata": {},
   "outputs": [],
   "source": [
    "# Busqueda aleatoria de la mejor solución de un conjunto de soluciones (le pasamos la cantidad de soluciones que\n",
    "# queremos que nos genere (N), la jornada, y \"c\" hace referencia al tipo de soluciones, con coincidencias (True) o sin (False))\n",
    "def busqueda_aleatoria(N,jornada,c):\n",
    "    mejor_solucion = {}\n",
    "    mejor_solucion_valor = 0\n",
    "    \n",
    "    if c:\n",
    "        s = crear_solucion_c\n",
    "    else:\n",
    "        s = crear_solucion\n",
    "        \n",
    "    for i in range(N):\n",
    "        solucion = s(jornada)\n",
    "        solucion_valor = valor(solucion)\n",
    "        \n",
    "        if solucion_valor > mejor_solucion_valor:\n",
    "            mejor_solucion = solucion\n",
    "            mejor_solucion_valor = solucion_valor    \n",
    "    return mejor_solucion, mejor_solucion_valor"
   ]
  },
  {
   "cell_type": "code",
   "execution_count": 120,
   "metadata": {},
   "outputs": [
    {
     "name": "stdout",
     "output_type": "stream",
     "text": [
      "·Mejor solución sin coincidencias:\n"
     ]
    },
    {
     "data": {
      "text/plain": [
       "({'V20': ['Eq19', 'Eq9'],\n",
       "  'S12': ['Eq8', 'Eq5'],\n",
       "  'S16': ['Eq11', 'Eq13'],\n",
       "  'S18': ['Eq2', 'Eq14'],\n",
       "  'S20': ['Eq6', 'Eq1'],\n",
       "  'D12': ['Eq7', 'Eq20'],\n",
       "  'D16': ['Eq3', 'Eq18'],\n",
       "  'D18': ['Eq16', 'Eq10'],\n",
       "  'D20': ['Eq12', 'Eq4'],\n",
       "  'L20': ['Eq15', 'Eq17']},\n",
       " 6.716)"
      ]
     },
     "execution_count": 120,
     "metadata": {},
     "output_type": "execute_result"
    }
   ],
   "source": [
    "# Ejemplo de mejor solución dentro de 10000 soluciones\n",
    "busqueda_aleat_ej_1 = busqueda_aleatoria(10000,j,False) # solución sin coincidencias\n",
    "busqueda_aleat_ej_2 = busqueda_aleatoria(10000,j,True) # solución con coincidencias\n",
    "print(\"·Mejor solución sin coincidencias:\")\n",
    "busqueda_aleat_ej_1"
   ]
  },
  {
   "cell_type": "code",
   "execution_count": 122,
   "metadata": {},
   "outputs": [
    {
     "name": "stdout",
     "output_type": "stream",
     "text": [
      "·Mejor solución con coincidencias:\n"
     ]
    },
    {
     "data": {
      "text/plain": [
       "({'V20': ['Eq7', 'Eq20'],\n",
       "  'S12': ['Eq8', 'Eq5'],\n",
       "  'S16': ['Eq12', 'Eq4'],\n",
       "  'S18': ['Eq2', 'Eq14'],\n",
       "  'S20': [['Eq3', 'Eq18'], ['Eq11', 'Eq13']],\n",
       "  'D12': ['Eq15', 'Eq17'],\n",
       "  'D16': [['Eq19', 'Eq9'], ['Eq6', 'Eq1']],\n",
       "  'L20': ['Eq16', 'Eq10']},\n",
       " 5.835)"
      ]
     },
     "execution_count": 122,
     "metadata": {},
     "output_type": "execute_result"
    }
   ],
   "source": [
    "print(\"·Mejor solución con coincidencias:\")\n",
    "busqueda_aleat_ej_2"
   ]
  },
  {
   "cell_type": "code",
   "execution_count": 173,
   "metadata": {},
   "outputs": [],
   "source": [
    "# Generación de una población de soluciones. Le pasamos la jornada a partir de la cual queremos que nos encuentre, \n",
    "# el número de soluciones N, las soluciones podran ser con coincidencias o sin coincidencias\n",
    "def generar_poblacion(jornada,N):\n",
    "    return [random.choice([crear_solucion,crear_solucion_c])(jornada) for _ in range(N)]"
   ]
  },
  {
   "cell_type": "code",
   "execution_count": 195,
   "metadata": {},
   "outputs": [
    {
     "data": {
      "text/plain": [
       "[{'V20': [['Eq3', 'Eq18'], ['Eq11', 'Eq13']],\n",
       "  'S12': ['Eq8', 'Eq5'],\n",
       "  'S16': [['Eq7', 'Eq20'], ['Eq16', 'Eq10']],\n",
       "  'S18': [['Eq15', 'Eq17'], ['Eq6', 'Eq1']],\n",
       "  'S20': ['Eq12', 'Eq4'],\n",
       "  'L20': [['Eq19', 'Eq9'], ['Eq2', 'Eq14']]},\n",
       " {'V20': ['Eq8', 'Eq5'],\n",
       "  'S12': ['Eq2', 'Eq14'],\n",
       "  'S16': ['Eq7', 'Eq20'],\n",
       "  'S18': ['Eq16', 'Eq10'],\n",
       "  'S20': ['Eq19', 'Eq9'],\n",
       "  'D12': ['Eq11', 'Eq13'],\n",
       "  'D16': ['Eq15', 'Eq17'],\n",
       "  'D18': ['Eq6', 'Eq1'],\n",
       "  'D20': ['Eq3', 'Eq18'],\n",
       "  'L20': ['Eq12', 'Eq4']}]"
      ]
     },
     "execution_count": 195,
     "metadata": {},
     "output_type": "execute_result"
    }
   ],
   "source": [
    "# Ejemplo de una población de 5 soluciones, con coincidencias y sin concidencias en los horarios\n",
    "poblacion_ej = generar_poblacion(j,2)\n",
    "poblacion_ej"
   ]
  },
  {
   "cell_type": "code",
   "execution_count": 157,
   "metadata": {},
   "outputs": [],
   "source": [
    "# Nos devuelve la mejor soución con su valor de una población\n",
    "def evaluar_poblacion(pobl):\n",
    "    mejor_solucion = {}\n",
    "    mejor_solucion_valor = 0\n",
    "    for p in pobl:\n",
    "        solucion_valor = valor(p)\n",
    "        if solucion_valor > mejor_solucion_valor:\n",
    "            mejor_solucion = p\n",
    "            mejor_solucion_valor = solucion_valor    \n",
    "    return mejor_solucion, mejor_solucion_valor"
   ]
  },
  {
   "cell_type": "code",
   "execution_count": 196,
   "metadata": {},
   "outputs": [
    {
     "data": {
      "text/plain": [
       "({'V20': ['Eq8', 'Eq5'],\n",
       "  'S12': ['Eq2', 'Eq14'],\n",
       "  'S16': ['Eq7', 'Eq20'],\n",
       "  'S18': ['Eq16', 'Eq10'],\n",
       "  'S20': ['Eq19', 'Eq9'],\n",
       "  'D12': ['Eq11', 'Eq13'],\n",
       "  'D16': ['Eq15', 'Eq17'],\n",
       "  'D18': ['Eq6', 'Eq1'],\n",
       "  'D20': ['Eq3', 'Eq18'],\n",
       "  'L20': ['Eq12', 'Eq4']},\n",
       " 5.878)"
      ]
     },
     "execution_count": 196,
     "metadata": {},
     "output_type": "execute_result"
    }
   ],
   "source": [
    "# Ejemplo de evaluación de una población \n",
    "eval_poblacion_ej = evaluar_poblacion(poblacion_ej)\n",
    "eval_poblacion_ej"
   ]
  },
  {
   "cell_type": "code",
   "execution_count": 177,
   "metadata": {},
   "outputs": [],
   "source": [
    "# De la población escogemos dos soluciones (padres) y las combinamos (cruzamos los padres) entre ellas para que nos generen\n",
    "# otras dos soluciones distintas (hijos)\n",
    "def cruzar(poblacion,mutacion,jornada):\n",
    "    poblacion_copia = copy.deepcopy(poblacion)\n",
    "    poblacion_final =[]\n",
    "    \n",
    "    while len(poblacion_copia)>1:\n",
    "        padre1,padre2 = random.sample(poblacion_copia   ,2)\n",
    "        poblacion_copia.remove(padre1)\n",
    "        poblacion_copia.remove(padre2)\n",
    "        poblacion_final.extend(descendencia([padre1,padre2],mutacion,jornada))\n",
    "    return poblacion_final     "
   ]
  },
  {
   "cell_type": "code",
   "execution_count": 185,
   "metadata": {},
   "outputs": [],
   "source": [
    "# Parte de los padres que destinamos a cada hijo\n",
    "# El hijo 1 se queda con los siguientes partidos:\n",
    "# - partidos V20 y L20 del padre 1 y los demás partidos del padre 2\n",
    "# El hijo 2 se queda con los siguientes partidos:\n",
    "# - partidos V20 y L20 del padre 2 y los demás partidos del padre 1\n",
    "def descendencia(padres,mutacion,jornada):\n",
    "    kn1 = list(padres[0].keys())\n",
    "    kn2 = list(padres[1].keys())\n",
    "    hijo1 = {}\n",
    "    hijo2 = {}\n",
    "    \n",
    "    hijo1.update({'V20': padres[0]['V20']})\n",
    "    for i in kn2:\n",
    "        if tamaño(hijo1)<9:\n",
    "            if i not in hijo1 and i != 'L20':\n",
    "                x = padres[1][i]\n",
    "                hijo1.update({i: x})\n",
    "    hijo1.update({'L20': padres[0]['L20']})\n",
    "    \n",
    "    \n",
    "    hijo2.update({'V20': padres[1]['V20']})\n",
    "    for i in kn1:\n",
    "        if tamaño(hijo2)<9:\n",
    "            if i not in hijo2 and i != 'L20':\n",
    "                x = padres[0][i]\n",
    "                hijo2.update({i: x})\n",
    "    hijo2.update({'L20': padres[1]['L20']})\n",
    "\n",
    "    hijo1 = factibilizar(jornada,hijo1)\n",
    "    hijo2 = factibilizar(jornada,hijo2)\n",
    "    \n",
    "    \n",
    "    return mutar(hijo1,mutacion),mutar(hijo2,mutacion)"
   ]
  },
  {
   "cell_type": "code",
   "execution_count": 180,
   "metadata": {},
   "outputs": [],
   "source": [
    "# Eliminamos los elementos de una lista en función de si estan en otra lista (e)\n",
    "def eliminar(results,e):\n",
    "    for i in range(len(results)):\n",
    "        for j in range(len(results[i])):\n",
    "            if results[i][j] == e:\n",
    "                results[i].pop(j)\n",
    "                return results\n",
    "            if results[i][j][0]=='E':\n",
    "                if results[i] ==e:\n",
    "                    results.pop(i)\n",
    "                    return results\n",
    "                break\n",
    "    return results"
   ]
  },
  {
   "cell_type": "code",
   "execution_count": 182,
   "metadata": {},
   "outputs": [],
   "source": [
    "# Eliminos los elementos repetidos de una misma lista\n",
    "def eliminar_repetidos(results):\n",
    "    kn = list(results.keys())\n",
    "    elem = []\n",
    "    c = dic_inv(results)\n",
    "    for i in c:\n",
    "        aux = False\n",
    "        for j in i:\n",
    "            if aux:\n",
    "                break\n",
    "            if j[0]=='E':\n",
    "                if i in elem:\n",
    "                    c = eliminar(c,i)\n",
    "                else:\n",
    "                    elem.append(i)\n",
    "                aux = True      \n",
    "            if j in elem:\n",
    "                c = eliminar(c,j)\n",
    "            if j not in elem and j[0] != 'E':\n",
    "                elem.append(j)\n",
    "    return dic(c,kn)"
   ]
  },
  {
   "cell_type": "code",
   "execution_count": 184,
   "metadata": {},
   "outputs": [],
   "source": [
    "# Cuando cruzamos los padres, nos pueden salir partidos repetidos, así que tenemos que modificar la solución\n",
    "# que se nos genera a la hora de cruzar los padres, para que sea factible\n",
    "def factibilizar(jornada,solucion):\n",
    "    r =solucion\n",
    "    r = eliminar_repetidos(r)\n",
    "    partidos_solucion = partidos_lista(r)\n",
    "    partidos_desaparecidos = [] \n",
    "    kns = list(r.keys())\n",
    "    for i in jornada:\n",
    "        if i not in partidos_solucion:\n",
    "            partidos_desaparecidos.append(i)  \n",
    "    for i in range(len(jornada)):\n",
    "        if len(partidos_desaparecidos)>0:\n",
    "            if key_names[i] not in kns:\n",
    "                if random.getrandbits(1) and len(partidos_desaparecidos)>1:\n",
    "                    val_r = random.randint(2,(len(partidos_desaparecidos)))\n",
    "                    x = random.sample(partidos_desaparecidos,val_r)\n",
    "                    r.update( {key_names[i] : x} )\n",
    "                    for j in x:\n",
    "                        partidos_desaparecidos.remove(j)\n",
    "                else:\n",
    "                    x = random.choice(partidos_desaparecidos)\n",
    "                    r.update( {key_names[i] : x} )\n",
    "                    partidos_desaparecidos.remove(x)\n",
    "            kns.append(key_names[i])\n",
    "        else:\n",
    "            break\n",
    "    if comprobacion(r):\n",
    "        r= crear_solucion_c(jornada)  \n",
    "    l = len(r)-1\n",
    "    kns = list(r.keys()) \n",
    "    if 'L20' not in kns:\n",
    "        x = kns[l]\n",
    "        r['L20'] = r.pop(x)\n",
    "    return r"
   ]
  },
  {
   "cell_type": "code",
   "execution_count": 186,
   "metadata": {},
   "outputs": [],
   "source": [
    "# Una vez tenemos la solución factibilizada, generamos la posibilidad de que haya una mutación en esta solución\n",
    "# Se trata de intercanviar el partido del primer horario por el partido del ultimo horario\n",
    "def mutar(solucion,mutacion):\n",
    "    if random.random()<mutacion:\n",
    "        kn = list(solucion.keys())\n",
    "        d = len(kn) \n",
    "        solucion_copy = copy.deepcopy(solucion)\n",
    "        solucion.update({kn[0]: solucion_copy[kn[d-1]]})\n",
    "        solucion.update({kn[d-1]: solucion_copy[kn[0]]})\n",
    "        return solucion\n",
    "    else:\n",
    "        return solucion"
   ]
  },
  {
   "cell_type": "code",
   "execution_count": 199,
   "metadata": {},
   "outputs": [
    {
     "data": {
      "text/plain": [
       "[{'V20': [['Eq3', 'Eq18']],\n",
       "  'S12': ['Eq7', 'Eq20'],\n",
       "  'S16': ['Eq16', 'Eq10'],\n",
       "  'S18': ['Eq11', 'Eq13'],\n",
       "  'S20': ['Eq15', 'Eq17'],\n",
       "  'D12': ['Eq6', 'Eq1'],\n",
       "  'D16': [['Eq19', 'Eq9'], ['Eq2', 'Eq14']],\n",
       "  'L20': [['Eq8', 'Eq5'], ['Eq12', 'Eq4']]},\n",
       " {'V20': ['Eq8', 'Eq5'],\n",
       "  'S12': [['Eq7', 'Eq20'], ['Eq16', 'Eq10']],\n",
       "  'S16': [['Eq15', 'Eq17'], ['Eq6', 'Eq1']],\n",
       "  'S18': ['Eq12', 'Eq4'],\n",
       "  'S20': ['Eq19', 'Eq9'],\n",
       "  'L20': [['Eq11', 'Eq13'], ['Eq2', 'Eq14'], ['Eq3', 'Eq18']]}]"
      ]
     },
     "execution_count": 199,
     "metadata": {},
     "output_type": "execute_result"
    }
   ],
   "source": [
    "# Ejemplo cruce de una población (hijos) sin tener en cuenta la mutación en este caso, por eso ponemos 0\n",
    "cruzar_ej = cruzar(poblacion_ej,0,j)\n",
    "cruzar_ej"
   ]
  },
  {
   "cell_type": "code",
   "execution_count": 204,
   "metadata": {},
   "outputs": [
    {
     "name": "stdout",
     "output_type": "stream",
     "text": [
      "Hijo antes de mutar:\n"
     ]
    },
    {
     "data": {
      "text/plain": [
       "{'V20': [['Eq8', 'Eq5'], ['Eq12', 'Eq4']],\n",
       " 'S12': ['Eq7', 'Eq20'],\n",
       " 'S16': ['Eq16', 'Eq10'],\n",
       " 'S18': ['Eq11', 'Eq13'],\n",
       " 'S20': ['Eq15', 'Eq17'],\n",
       " 'D12': ['Eq6', 'Eq1'],\n",
       " 'D16': [['Eq19', 'Eq9'], ['Eq2', 'Eq14']],\n",
       " 'L20': [['Eq3', 'Eq18']]}"
      ]
     },
     "execution_count": 204,
     "metadata": {},
     "output_type": "execute_result"
    }
   ],
   "source": [
    "# Ejemplo de una mutación (mutamos un hijo generado por el cruze). Ponemos 1 para que la probabilidad de mutación\n",
    "# sea del 100%\n",
    "print(\"Hijo antes de mutar:\")\n",
    "mutacion_ej"
   ]
  },
  {
   "cell_type": "code",
   "execution_count": 205,
   "metadata": {},
   "outputs": [
    {
     "name": "stdout",
     "output_type": "stream",
     "text": [
      "Hijo despues de mutar:\n"
     ]
    },
    {
     "data": {
      "text/plain": [
       "{'V20': [['Eq3', 'Eq18']],\n",
       " 'S12': ['Eq7', 'Eq20'],\n",
       " 'S16': ['Eq16', 'Eq10'],\n",
       " 'S18': ['Eq11', 'Eq13'],\n",
       " 'S20': ['Eq15', 'Eq17'],\n",
       " 'D12': ['Eq6', 'Eq1'],\n",
       " 'D16': [['Eq19', 'Eq9'], ['Eq2', 'Eq14']],\n",
       " 'L20': [['Eq8', 'Eq5'], ['Eq12', 'Eq4']]}"
      ]
     },
     "execution_count": 205,
     "metadata": {},
     "output_type": "execute_result"
    }
   ],
   "source": [
    "mutacion_ej = mutar(cruzar_ej[0],1)\n",
    "print(\"Hijo despues de mutar:\")\n",
    "mutacion_ej"
   ]
  },
  {
   "cell_type": "code",
   "execution_count": 206,
   "metadata": {},
   "outputs": [],
   "source": [
    "#Funcion de seleccion de la población. Recibe como parametro una poblacion y \n",
    "# devuelve una poblacion a la que se ha eliminado individuos poco aptos(fitness alto) y \n",
    "# para mantener una poblacion estable de N individuos\n",
    "def seleccionar(poblacion, N, elitismo):\n",
    "    poblacion_ordenada = sorted([ [valor(solucion), solucion] for solucion in poblacion ], key= lambda x:x[0], \n",
    "                                reverse = True)\n",
    "    return [x[1] for x in poblacion_ordenada][:int(N*elitismo)]  + \\\n",
    "    random.sample([x[1] for x in poblacion_ordenada][int(N*elitismo):] , int(N*(1-elitismo))  )   "
   ]
  },
  {
   "cell_type": "code",
   "execution_count": 241,
   "metadata": {},
   "outputs": [],
   "source": [
    "# Algoritmo genético\n",
    "# N = Tamaño de la población\n",
    "# mutacion = probabilidad de una mutación\n",
    "# elitismo = porcion de la mejor poblacion a mantener\n",
    "# generaciones = nº de generaciones a generar para finalizar \n",
    "@calcular_tiempo\n",
    "def algoritmo_genetico(N,problema,mutacion,elitismo,generaciones):\n",
    "    poblacion = generar_poblacion(problema,N)\n",
    "    (mejor_solucion_ref, mejor_solucion_valor_ref) = evaluar_poblacion(poblacion)\n",
    "    parar = False\n",
    "    n=0\n",
    "    \n",
    "    while(parar==False):\n",
    "        poblacion = cruzar(poblacion,mutacion,problema)\n",
    "        poblacion = seleccionar(poblacion, N, elitismo)\n",
    "        (mejor_solucion, mejor_solucion_valor) = evaluar_poblacion(poblacion)\n",
    "        \n",
    "        if mejor_solucion_valor > mejor_solucion_valor_ref:\n",
    "            mejor_solucion_valor_ref = mejor_solucion_valor\n",
    "            mejor_solucion_ref = mejor_solucion\n",
    "            \n",
    "        #print(\"Generacion #\", n, \"Solución:\" , round(mejor_solucion_valor,3),\n",
    "              #\"|| Mejor Solución:\",round(mejor_solucion_valor_ref,3))\n",
    "            \n",
    "        if n==generaciones:\n",
    "            parar = True\n",
    "        n +=1\n",
    "        \n",
    "    return mejor_solucion_ref,mejor_solucion_valor_ref       "
   ]
  },
  {
   "cell_type": "code",
   "execution_count": 209,
   "metadata": {},
   "outputs": [],
   "source": [
    "# Fuerza bruta (solucion sin coincidencia de horarios)\n",
    "@calcular_tiempo\n",
    "def fuerza_bruta(jornada):\n",
    "    mejor_solucion_valor = 0\n",
    "    soluciones_posibles = list(itertools.permutations(jornada))\n",
    "    for i in soluciones_posibles:\n",
    "        x_sol = dic(i,key_names)\n",
    "        x_val = valor(x_sol)\n",
    "        if x_val > mejor_solucion_valor:\n",
    "            mejor_solucion_valor = x_val\n",
    "            mejor_solucion = x_sol\n",
    "    return mejor_solucion, mejor_solucion_valor"
   ]
  },
  {
   "cell_type": "code",
   "execution_count": 212,
   "metadata": {},
   "outputs": [
    {
     "data": {
      "text/plain": [
       "[['Eq10', 'Eq7'],\n",
       " ['Eq13', 'Eq9'],\n",
       " ['Eq2', 'Eq1'],\n",
       " ['Eq19', 'Eq8'],\n",
       " ['Eq6', 'Eq14'],\n",
       " ['Eq12', 'Eq5'],\n",
       " ['Eq4', 'Eq15'],\n",
       " ['Eq18', 'Eq16'],\n",
       " ['Eq11', 'Eq20'],\n",
       " ['Eq17', 'Eq3']]"
      ]
     },
     "execution_count": 212,
     "metadata": {},
     "output_type": "execute_result"
    }
   ],
   "source": [
    "# Jornada aleatoria\n",
    "jornada = generar_jornada()\n",
    "jornada"
   ]
  },
  {
   "cell_type": "code",
   "execution_count": 213,
   "metadata": {},
   "outputs": [
    {
     "name": "stdout",
     "output_type": "stream",
     "text": [
      "Tiempo transcurrido (en segundos): 108.85598349571228\n"
     ]
    },
    {
     "data": {
      "text/plain": [
       "({'V20': ['Eq19', 'Eq8'],\n",
       "  'S12': ['Eq10', 'Eq7'],\n",
       "  'S16': ['Eq13', 'Eq9'],\n",
       "  'S18': ['Eq4', 'Eq15'],\n",
       "  'S20': ['Eq2', 'Eq1'],\n",
       "  'D12': ['Eq11', 'Eq20'],\n",
       "  'D16': ['Eq6', 'Eq14'],\n",
       "  'D18': ['Eq12', 'Eq5'],\n",
       "  'D20': ['Eq17', 'Eq3'],\n",
       "  'L20': ['Eq18', 'Eq16']},\n",
       " 6.876)"
      ]
     },
     "execution_count": 213,
     "metadata": {},
     "output_type": "execute_result"
    }
   ],
   "source": [
    "# Resultado por Fuerza bruta\n",
    "fuerza_bruta(jornada)"
   ]
  },
  {
   "cell_type": "code",
   "execution_count": 226,
   "metadata": {
    "scrolled": false
   },
   "outputs": [
    {
     "name": "stdout",
     "output_type": "stream",
     "text": [
      "Tiempo transcurrido (en segundos): 1.5478389263153076\n"
     ]
    },
    {
     "data": {
      "text/plain": [
       "({'V20': ['Eq13', 'Eq9'],\n",
       "  'S12': ['Eq10', 'Eq7'],\n",
       "  'S16': ['Eq6', 'Eq14'],\n",
       "  'S18': ['Eq11', 'Eq20'],\n",
       "  'S20': ['Eq2', 'Eq1'],\n",
       "  'D12': ['Eq18', 'Eq16'],\n",
       "  'D16': ['Eq4', 'Eq15'],\n",
       "  'D18': ['Eq12', 'Eq5'],\n",
       "  'D20': ['Eq17', 'Eq3'],\n",
       "  'L20': ['Eq19', 'Eq8']},\n",
       " 6.796)"
      ]
     },
     "execution_count": 226,
     "metadata": {},
     "output_type": "execute_result"
    }
   ],
   "source": [
    "# Resultado con el Algoritmo Genético \n",
    "# Tamaño población = 100\n",
    "# % de mutación = 15\n",
    "# % de la mejor poblacion a mantener = 40\n",
    "# Nº de generaciones = 100\n",
    "algoritmo_genetico(100,jornada,0.15,0.4,100)"
   ]
  },
  {
   "cell_type": "code",
   "execution_count": 227,
   "metadata": {},
   "outputs": [
    {
     "name": "stdout",
     "output_type": "stream",
     "text": [
      "Tiempo transcurrido (en segundos): 5.546178579330444\n"
     ]
    },
    {
     "data": {
      "text/plain": [
       "({'V20': ['Eq11', 'Eq20'],\n",
       "  'S12': [['Eq13', 'Eq9']],\n",
       "  'S16': ['Eq6', 'Eq14'],\n",
       "  'S18': ['Eq10', 'Eq7'],\n",
       "  'S20': [['Eq2', 'Eq1']],\n",
       "  'D12': ['Eq18', 'Eq16'],\n",
       "  'D16': [['Eq17', 'Eq3']],\n",
       "  'D18': ['Eq12', 'Eq5'],\n",
       "  'D20': ['Eq4', 'Eq15'],\n",
       "  'L20': ['Eq19', 'Eq8']},\n",
       " 6.857)"
      ]
     },
     "execution_count": 227,
     "metadata": {},
     "output_type": "execute_result"
    }
   ],
   "source": [
    "# Resultado con el Algoritmo Genético \n",
    "# Tamaño población = 200\n",
    "# % de mutación = 50\n",
    "# % de la mejor poblacion a mantener = 10\n",
    "# Nº de generaciones = 200\n",
    "algoritmo_genetico(200,jornada,0.5,0.1,200)"
   ]
  },
  {
   "cell_type": "markdown",
   "metadata": {},
   "source": [
    "#### Conclusiones:\n",
    "· Como se puede observar con fuerza bruta al ser de complejidad factorial (O(n!)), el tiempo de ejecución del algoritmo es superior al minuto y medio, con un resultado de 6.876. En canvio con algoritmos genéticos, con una población de 100 y 100 generaciones, con un tiempo de ejecución de un segundo y medio tenemos un resultado muy similar, 6.796. Y si aumentamos la población a 200 y el número de generaciones a 200, y variando un poco los parámetros de mutación y elitismo, obtenemos un mejor resultado, 6.857.<br><br>\n",
    "· Tambíen podemos ver que la mejor solución con algoritmos genéticos en este caso es sin coincidencias (el algoritmo genético genera soluciones con coincidencias y sin coincidencias). <br><br>\n",
    "· Nota personal: me he complicado bastante al intentar hacer todas las operaciones con diccionarios, pero me ha servido a la vez para aprender más la utilización y gestion de datos con diccionarios. Pero seria más fácil hacerlo como lo he hecho con ramificación y poda, que solo me baso en una lista de numeros."
   ]
  },
  {
   "cell_type": "code",
   "execution_count": 260,
   "metadata": {},
   "outputs": [],
   "source": [
    "# Comparación con la jornada que se ha utilizado para ramificación y poda\n",
    "jornada2 =[['Eq17', 'Eq7'],\n",
    " ['Eq5', 'Eq20'],\n",
    " ['Eq12', 'Eq9'],\n",
    " ['Eq13', 'Eq2'],\n",
    " ['Eq3', 'Eq14'],\n",
    " ['Eq18', 'Eq11'],\n",
    " ['Eq10', 'Eq19'],\n",
    " ['Eq16', 'Eq1'],\n",
    " ['Eq15', 'Eq8'],\n",
    " ['Eq6', 'Eq4']]"
   ]
  },
  {
   "cell_type": "code",
   "execution_count": 262,
   "metadata": {},
   "outputs": [
    {
     "name": "stdout",
     "output_type": "stream",
     "text": [
      "Resultado: 6.746\n"
     ]
    }
   ],
   "source": [
    "# Ramificación y poda\n",
    "print(\"Resultado: 6.746\")"
   ]
  },
  {
   "cell_type": "code",
   "execution_count": 261,
   "metadata": {},
   "outputs": [
    {
     "name": "stdout",
     "output_type": "stream",
     "text": [
      "Tiempo transcurrido (en segundos): 1.4810411930084229\n"
     ]
    },
    {
     "data": {
      "text/plain": [
       "({'V20': ['Eq5', 'Eq20'],\n",
       "  'S12': ['Eq15', 'Eq8'],\n",
       "  'S16': ['Eq12', 'Eq9'],\n",
       "  'S18': ['Eq13', 'Eq2'],\n",
       "  'S20': ['Eq16', 'Eq1'],\n",
       "  'D12': ['Eq18', 'Eq11'],\n",
       "  'D16': ['Eq3', 'Eq14'],\n",
       "  'D18': ['Eq10', 'Eq19'],\n",
       "  'D20': ['Eq6', 'Eq4'],\n",
       "  'L20': ['Eq17', 'Eq7']},\n",
       " 6.67)"
      ]
     },
     "execution_count": 261,
     "metadata": {},
     "output_type": "execute_result"
    }
   ],
   "source": [
    "# Algoritmo Genético\n",
    "algoritmo_genetico(100,jornada2,0.5,0.1,100)"
   ]
  },
  {
   "cell_type": "markdown",
   "metadata": {},
   "source": [
    "> La solución del algoritmo genético esta muy cerca de la solución de ramificación y poda."
   ]
  }
 ],
 "metadata": {
  "kernelspec": {
   "display_name": "Python 3",
   "language": "python",
   "name": "python3"
  },
  "language_info": {
   "codemirror_mode": {
    "name": "ipython",
    "version": 3
   },
   "file_extension": ".py",
   "mimetype": "text/x-python",
   "name": "python",
   "nbconvert_exporter": "python",
   "pygments_lexer": "ipython3",
   "version": "3.7.3"
  }
 },
 "nbformat": 4,
 "nbformat_minor": 2
}
