{
 "cells": [
  {
   "cell_type": "markdown",
   "metadata": {
    "colab_type": "text",
    "id": "hVbXYX-RfPWh"
   },
   "source": [
    "# Algoritmos de optimización - Seminario\n",
    "\n",
    "#### Nico Toscano\n",
    "\n",
    "#### URL: https://github.com/NicolaiOcin/03MAIR---Algoritmos-de-Optimizacion---2019/tree/master/SEM           "
   ]
  },
  {
   "cell_type": "markdown",
   "metadata": {},
   "source": [
    "#### Problema 2. Organizar los horarios de partidos de La Liga\n",
    "• En primer lugar se clasifican los equipos en tres categorías según el numero de\n",
    "seguidores( que tiene una relación directa con la audiencia). Hay 4 equipos en la\n",
    "categoría A, 10 equipos de categoría B y 6 equipos de categoría C.<br>\n",
    "• Se conoce estadísticamente la audiencia que genera cada partido según los equipos\n",
    "que se enfrentan y en horario de sábado a las 20h (el mejor en todos los casos)<br>\n",
    "• Si el horario del partido no se realiza a las 20 horas del sábado se sabe que se reduce\n",
    "según los coeficientes de la siguiente tabla<br>\n",
    "• Debemos asignar obligatoriamente siempre un partido el viernes y un partido el lunes<br>\n",
    "• Es posible la coincidencia de horarios pero en este caso la audiencia de cada partido\n",
    "se verá afectada y se estima que se reduce en porcentaje según la siguiente tabla\n",
    "dependiendo del número de coincidencias:"
   ]
  },
  {
   "cell_type": "code",
   "execution_count": 121,
   "metadata": {
    "colab": {},
    "colab_type": "code",
    "id": "AiskKkzZfy4e"
   },
   "outputs": [],
   "source": [
    "# Librerias\n",
    "import random\n",
    "import copy\n",
    "import itertools\n",
    "from time import time\n",
    "from functools import wraps\n",
    "\n",
    "def calcular_tiempo(f):\n",
    "    @wraps(f)\n",
    "    def cronometro(*args, **kwargs):\n",
    "        t_inicial = time()\n",
    "        salida = f(*args, **kwargs)\n",
    "        t_final = time()\n",
    "        print('Tiempo transcurrido (en segundos): {}'.format(t_final - t_inicial))\n",
    "        return salida\n",
    "    return cronometro"
   ]
  },
  {
   "cell_type": "markdown",
   "metadata": {
    "colab_type": "text",
    "id": "3_-exlrTgLd-"
   },
   "source": [
    "(*)¿Cuantas posibilidades hay sin tener en cuenta las restricciones?<br>\n",
    "\n",
    "\n",
    "\n",
    "¿Cuantas posibilidades hay teniendo en cuenta todas las restricciones.\n",
    "\n",
    "\n"
   ]
  },
  {
   "cell_type": "markdown",
   "metadata": {
    "colab_type": "text",
    "id": "WfCUqJyKhPcw"
   },
   "source": [
    "Respuesta"
   ]
  },
  {
   "cell_type": "markdown",
   "metadata": {
    "colab": {},
    "colab_type": "code",
    "id": "iq6Fe32MgpDX"
   },
   "source": [
    "> Sin tener en cuenta las restricciones, las posibilidades son todas las posibles permutaciones de colocar los 10 equipos en los 10 horarios. Por lo tanto es factorial de 10 (10!) que es igual a 3628800 posibilidades."
   ]
  },
  {
   "cell_type": "markdown",
   "metadata": {},
   "source": [
    "> Teniendo en cuenta la repetición de horarios, el número de posibilidades seria de 10^10, teniendo en cuenta que tenemos que restar las combinaciones, en que no aparecen los partidos en un lunes y un viernes."
   ]
  },
  {
   "cell_type": "code",
   "execution_count": 122,
   "metadata": {},
   "outputs": [],
   "source": [
    "# Reptiendo horariso podriamos calcular todas las combinaciones de la siguiente manera (por cumpoto hago que se ejecute)\n",
    "#comb_rep_horarios = list(itertools.product([0,1,2,3,4,5,6,7,8,9],repeat = 6))"
   ]
  },
  {
   "cell_type": "markdown",
   "metadata": {
    "colab_type": "text",
    "id": "dzynfVJahHoY"
   },
   "source": [
    "Modelo para el espacio de soluciones<br>\n",
    "(*) ¿Cual es la estructura de datos que mejor se adapta al problema? Argumentalo.(Es posible que hayas elegido una al principio y veas la necesidad de cambiar, arguentalo)\n"
   ]
  },
  {
   "cell_type": "markdown",
   "metadata": {
    "colab_type": "text",
    "id": "xFIJrOwKi2Ti"
   },
   "source": [
    "Respuesta"
   ]
  },
  {
   "cell_type": "markdown",
   "metadata": {
    "colab": {},
    "colab_type": "code",
    "id": "38c-7-ejhJmA"
   },
   "source": [
    "> Ramificación y poda porque podemos crear un árbol con las distintas soluciones posibles, y para no recorrer todos los nodos, utilizamos este método. Y de esta manera encontrar la solución exacta. Podemos utilizar métodos heurísticos o algoritmos genéticos pero la solución estará cerca de la exacta."
   ]
  },
  {
   "cell_type": "markdown",
   "metadata": {
    "colab_type": "text",
    "id": "7Z9U2W7bi-XS"
   },
   "source": [
    "Según el modelo para el espacio de soluciones<br>\n",
    "(*)¿Cual es la función objetivo?\n",
    "\n",
    "(*)¿Es un problema de maximización o minimización?"
   ]
  },
  {
   "cell_type": "markdown",
   "metadata": {
    "colab_type": "text",
    "id": "hBalWLM7j1_d"
   },
   "source": [
    "Respuesta"
   ]
  },
  {
   "cell_type": "markdown",
   "metadata": {
    "colab": {},
    "colab_type": "code",
    "id": "pDA-rg3Gj5Lz"
   },
   "source": [
    "> La función objetivo es el número de espectadores que obtenemos dependiendo de como colocamos los partidos."
   ]
  },
  {
   "cell_type": "markdown",
   "metadata": {},
   "source": [
    "> Es un problema de maximización debido a que se nos pide colocar los partidos de tal manera que obtengamos los maximos espectadores posibles."
   ]
  },
  {
   "cell_type": "markdown",
   "metadata": {
    "colab_type": "text",
    "id": "rlnTYgY1j6I2"
   },
   "source": [
    "Diseña un algoritmo para resolver el problema por fuerza bruta"
   ]
  },
  {
   "cell_type": "markdown",
   "metadata": {
    "colab_type": "text",
    "id": "70rDgxYXkC8r"
   },
   "source": [
    "Respuesta"
   ]
  },
  {
   "cell_type": "markdown",
   "metadata": {
    "colab": {},
    "colab_type": "code",
    "id": "CJb5sQ0qkENy"
   },
   "source": [
    "> ---Este algoritmo se encuentra al final del documento \"Problema_2_alg_gen\"---"
   ]
  },
  {
   "cell_type": "markdown",
   "metadata": {
    "colab_type": "text",
    "id": "tgrnsC2nkFa8"
   },
   "source": [
    "Calcula la complejidad del algoritmo por fuerza bruta"
   ]
  },
  {
   "cell_type": "markdown",
   "metadata": {
    "colab_type": "text",
    "id": "9eUd3xwckP68"
   },
   "source": [
    "Respuesta"
   ]
  },
  {
   "cell_type": "markdown",
   "metadata": {
    "colab": {},
    "colab_type": "code",
    "id": "rvZWwL-ckRST"
   },
   "source": [
    "> La complejidad del algoritmo por fuerza bruta es de O(n!), factorial."
   ]
  },
  {
   "cell_type": "markdown",
   "metadata": {
    "colab_type": "text",
    "id": "txbrmLmskReM"
   },
   "source": [
    "(*)Diseña un algoritmo que mejore la complejidad del algortimo por fuerza bruta. Argumenta porque crees que mejora el algoritmo por fuerza bruta"
   ]
  },
  {
   "cell_type": "markdown",
   "metadata": {
    "colab_type": "text",
    "id": "hLrVwt5QkZPD"
   },
   "source": [
    "Respuesta"
   ]
  },
  {
   "cell_type": "code",
   "execution_count": 123,
   "metadata": {
    "colab": {},
    "colab_type": "code",
    "id": "m1eyM21Vkabg"
   },
   "outputs": [],
   "source": [
    "# Equipos\n",
    "Equipos = {'A':['Eq1','Eq2','Eq3','Eq4'], 'B':['Eq5','Eq6','Eq7','Eq8','Eq9','Eq10','Eq11','Eq12','Eq13','Eq14'], \n",
    "      'C':['Eq15','Eq16','Eq17','Eq18','Eq19','Eq20']}\n",
    "\n",
    "Equipos_lista = ['Eq1','Eq2','Eq3','Eq4','Eq5','Eq6','Eq7','Eq8','Eq9','Eq10','Eq11','Eq12','Eq13','Eq14','Eq15',\n",
    "                'Eq16','Eq17','Eq18','Eq19','Eq20']"
   ]
  },
  {
   "cell_type": "code",
   "execution_count": 124,
   "metadata": {},
   "outputs": [],
   "source": [
    "# Generar una jornada aleatoria (combinacion de equipos)\n",
    "def generar_jornada():\n",
    "    j = []\n",
    "    Equipos_lista_copy = copy.deepcopy(Equipos_lista)\n",
    "    for i in range(10):\n",
    "        x = random.sample(Equipos_lista_copy,2)\n",
    "        j.append(x)\n",
    "        Equipos_lista_copy.remove(x[0])\n",
    "        Equipos_lista_copy.remove(x[1])\n",
    "    return j"
   ]
  },
  {
   "cell_type": "code",
   "execution_count": 125,
   "metadata": {},
   "outputs": [],
   "source": [
    "# Coeficientes segun las categorias de los equipos\n",
    "def cat(E1,E2):\n",
    "    if E1 in Equipos['A'] and E2 in Equipos['A']:\n",
    "        return 2\n",
    "    if E1 in Equipos['A'] and E2 in Equipos['B']:\n",
    "        return 1.3\n",
    "    if E1 in Equipos['A'] and E2 in Equipos['C']:\n",
    "        return 1\n",
    "    if E1 in Equipos['B'] and E2 in Equipos['A']:\n",
    "        return 1.3 \n",
    "    if E1 in Equipos['B'] and E2 in Equipos['B']:\n",
    "        return 0.9  \n",
    "    if E1 in Equipos['B'] and E2 in Equipos['C']:\n",
    "        return 0.75\n",
    "    if E1 in Equipos['C'] and E2 in Equipos['A']:\n",
    "        return 1\n",
    "    if E1 in Equipos['C'] and E2 in Equipos['B']:\n",
    "        return 0.75\n",
    "    if E1 in Equipos['C'] and E2 in Equipos['C']:\n",
    "        return 0.47"
   ]
  },
  {
   "cell_type": "code",
   "execution_count": 126,
   "metadata": {},
   "outputs": [],
   "source": [
    "# Coeficientes segun si hay coincidencias de partidos\n",
    "def coef_c(n):\n",
    "    if n == 0:\n",
    "             c = 1\n",
    "    else:\n",
    "        if n == 1:\n",
    "            c = 1-0.25\n",
    "        if n == 2:\n",
    "            c = 1-0.45\n",
    "        if n == 3:\n",
    "            c = 1-0.6\n",
    "        if n == 4:\n",
    "            c = 1-0.7\n",
    "        if n == 5:\n",
    "            c = 1-0.75\n",
    "        if n == 6:\n",
    "            c = 1-0.78\n",
    "        if n >= 7:\n",
    "            c = 1-0.8\n",
    "    return c"
   ]
  },
  {
   "cell_type": "code",
   "execution_count": 127,
   "metadata": {},
   "outputs": [],
   "source": [
    "# Valor de la solucion\n",
    "def valor(solucion,costes_mod):\n",
    "    valor = 0\n",
    "    rep = []\n",
    "    coef = []\n",
    "    \n",
    "    for i in solucion:\n",
    "        rep.append(solucion.count(i)-1)\n",
    "    \n",
    "    for i in rep:\n",
    "        coef.append(coef_c(i))\n",
    "    \n",
    "    for i in range(len(solucion)):\n",
    "        x = costes_mod[solucion[i]][i]\n",
    "        x = x*coef[i]\n",
    "        valor += x\n",
    "        \n",
    "    return valor"
   ]
  },
  {
   "cell_type": "code",
   "execution_count": 128,
   "metadata": {},
   "outputs": [],
   "source": [
    "# Valor del partido segun la categoria de cada equipo\n",
    "def jornada_valor(jornada):\n",
    "    result = []\n",
    "    for i in jornada:\n",
    "        result.append(cat(i[0],i[1]))\n",
    "    return result"
   ]
  },
  {
   "cell_type": "code",
   "execution_count": 129,
   "metadata": {},
   "outputs": [],
   "source": [
    "# Modificación de la matriz de costes segun \"jornada valor\"\n",
    "def mod_costes(jornada_valor,costes):\n",
    "    N = len(costes)\n",
    "    result = [[0]*N for i in [0]*N]\n",
    "    for i in range(len(jornada_valor)):\n",
    "        for j in range(len(costes)):\n",
    "            result[i][j] = round(jornada_valor[j]*costes[i][j],3)\n",
    "    return result"
   ]
  },
  {
   "cell_type": "code",
   "execution_count": 130,
   "metadata": {},
   "outputs": [],
   "source": [
    "# Crear hijos (nodos)\n",
    "def crear_hijos(nodo,N):\n",
    "    hijos = []\n",
    "    elem = []\n",
    "    for i in range(N):\n",
    "        if len(nodo)>=8:\n",
    "            x_0= nodo.count(0)\n",
    "            x_9= nodo.count(9)\n",
    "            if x_0 == 0 and 0 not in elem:\n",
    "                hijos.append({'s':nodo+(0,)})\n",
    "                elem.append(0)\n",
    "            if x_9 == 0 and 9 not in elem:\n",
    "                hijos.append({'s':nodo+(9,)})\n",
    "                elem.append(9)\n",
    "            if x_0 !=0 and x_9 != 0:\n",
    "                hijos.append({'s':nodo+(i,)})\n",
    "        else:\n",
    "            hijos.append({'s':nodo+(i,)})\n",
    "    return hijos   "
   ]
  },
  {
   "cell_type": "code",
   "execution_count": 131,
   "metadata": {},
   "outputs": [],
   "source": [
    "# Coste Inferior (de los nodos)\n",
    "def CI(s,costes_mod):\n",
    "    valor_acum = 0\n",
    "    valor_temp = 0\n",
    "    valor_parcial = 0\n",
    "    valor_parcial_ref = 0\n",
    "    posiciones = []\n",
    "    pos_final = []\n",
    "    pos_temp = []\n",
    "    if len(s)>0:\n",
    "        valor_acum += valor(s,costes_mod)\n",
    "        for i in s:\n",
    "            pos_temp.append(i)\n",
    "            pos_final.append(i)\n",
    "    valor_parcial += valor_acum      \n",
    "    ls = len(s)\n",
    "    lc = len(costes_mod)\n",
    "    for i in range(ls,lc):\n",
    "        valor_ref = 0\n",
    "        for j in range(len(costes_mod)):\n",
    "            rep = posiciones.count(j)\n",
    "            if j in s:\n",
    "                rep = s.count(j)\n",
    "                x = costes[j][i]\n",
    "                x = x*coef_c(rep)\n",
    "                valor_temp_2 = valor_parcial+x\n",
    "                if valor_temp_2> valor_parcial_ref:\n",
    "                    valor_parcial_ref = valor_temp_2\n",
    "                    valor_ref = x\n",
    "                    pos = j\n",
    "            else:\n",
    "                pos_temp.append(j)\n",
    "                valor_temp = valor(pos_temp,costes_mod)\n",
    "                \n",
    "                if valor_temp> valor_ref:\n",
    "                    valor_ref = valor_temp\n",
    "                    pos = j\n",
    "                pos_temp.remove(j)\n",
    "        pos_temp.append(pos)\n",
    "        pos_final.append(pos)\n",
    "        valor_parcial_ref = valor(pos_temp,costes_mod)\n",
    "    valor_acum = valor(pos_final,costes_mod)\n",
    "    return round(valor_acum,3)"
   ]
  },
  {
   "cell_type": "code",
   "execution_count": 132,
   "metadata": {},
   "outputs": [],
   "source": [
    "# Ramificación y poda\n",
    "@calcular_tiempo\n",
    "def ramificacion_y_poda(COSTES):\n",
    "    DIMENSION = len(COSTES)\n",
    "    MEJOR_SOLUCION = tuple(i for i in range(DIMENSION))\n",
    "    CotaSup = valor(MEJOR_SOLUCION, COSTES)\n",
    "    \n",
    "    #print(\"Cota Superior:\", CotaSup)\n",
    "    \n",
    "    NODOS = []\n",
    "    \n",
    "    NODOS.append({'s':(), 'ci':CI((), COSTES)})\n",
    "    \n",
    "    #print(NODOS)\n",
    "    \n",
    "    iteracion = 0\n",
    "    \n",
    "    while (len(NODOS) > 0):\n",
    "        iteracion += 1\n",
    "        #print('\\n#', iteracion)\n",
    "        \n",
    "        nodo_prometedor = max(NODOS, key=lambda x: x['ci'])\n",
    "        #print(\"Nodo prometedor:\", nodo_prometedor)\n",
    "        \n",
    "        # Ramificación (se generan los HIJOS)\n",
    "        HIJOS = [{'s': x['s'], 'ci':CI(x['s'], COSTES)} for x in crear_hijos(nodo_prometedor['s'], DIMENSION)]\n",
    "     \n",
    "        # Revisamos la cota superior y nos quedamos con la mejor solución si llegamos a una solución final\n",
    "        NODO_FINAL = [x for x in HIJOS if len(x['s']) == DIMENSION]\n",
    "       \n",
    "        if len(NODO_FINAL) > 0:\n",
    "            #print(\"\\n********Soluciones:\", [x for x in HIJOS if len(x['s']) == DIMENSION])\n",
    "            \n",
    "            for i in NODO_FINAL:\n",
    "                if i['ci'] > CotaSup:\n",
    "                    CotaSup = i['ci']\n",
    "                    MEJOR_SOLUCION = i\n",
    "                    \n",
    "        #Poda\n",
    "        HIJOS = [x for x in HIJOS if x['ci']>CotaSup]\n",
    "        \n",
    "        #Eliminamos el nodo expandido\n",
    "        NODOS = [x for x in NODOS if x['s'] != nodo_prometedor['s']]\n",
    "        \n",
    "        #Añadimos los hijos\n",
    "        NODOS.extend(HIJOS)\n",
    "        \n",
    "        #print(HIJOS)\n",
    "        \n",
    "    print(\"La mejor solucion es:\", MEJOR_SOLUCION)"
   ]
  },
  {
   "cell_type": "code",
   "execution_count": 133,
   "metadata": {},
   "outputs": [],
   "source": [
    "# Matriz de costes\n",
    "# Las columnas representan los diferentes partidos, y las filas los distintos horarios donde se puede asignar un partido\n",
    "# Los valores representan los coeficientes que suponen colocar un partido (columna) en ese horario (fila)\n",
    "costes = [[0.4,0.4,0.4,0.4,0.4,0.4,0.4,0.4,0.4,0.4],\n",
    "         [0.55,0.55,0.55,0.55,0.55,0.55,0.55,0.55,0.55,0.55,],\n",
    "          [0.7,0.7,0.7,0.7,0.7,0.7,0.7,0.7,0.7,0.7,],\n",
    "          [0.8,0.8,0.8,0.8,0.8,0.8,0.8,0.8,0.8,0.8,],\n",
    "          [1,1,1,1,1,1,1,1,1,1,],\n",
    "          [0.45,0.45,0.45,0.45,0.45,0.45,0.45,0.45,0.45,0.45,],\n",
    "          [0.75,0.75,0.75,0.75,0.75,0.75,0.75,0.75,0.75,0.75,],\n",
    "          [0.5,0.5,0.5,0.5,0.5,0.5,0.5,0.5,0.5,0.5,],\n",
    "          [1,1,1,1,1,1,1,1,1,1,],\n",
    "          [0.4,0.4,0.4,0.4,0.4,0.4,0.4,0.4,0.4,0.4,]]      "
   ]
  },
  {
   "cell_type": "code",
   "execution_count": 143,
   "metadata": {},
   "outputs": [
    {
     "data": {
      "text/plain": [
       "[['Eq17', 'Eq7'],\n",
       " ['Eq5', 'Eq20'],\n",
       " ['Eq12', 'Eq9'],\n",
       " ['Eq13', 'Eq2'],\n",
       " ['Eq3', 'Eq14'],\n",
       " ['Eq18', 'Eq11'],\n",
       " ['Eq10', 'Eq19'],\n",
       " ['Eq16', 'Eq1'],\n",
       " ['Eq15', 'Eq8'],\n",
       " ['Eq6', 'Eq4']]"
      ]
     },
     "execution_count": 143,
     "metadata": {},
     "output_type": "execute_result"
    }
   ],
   "source": [
    "# Generamos una jornada aleatoria\n",
    "jornada = generar_jornada()\n",
    "jornada"
   ]
  },
  {
   "cell_type": "code",
   "execution_count": 144,
   "metadata": {},
   "outputs": [
    {
     "data": {
      "text/plain": [
       "[0.75, 0.75, 0.9, 1.3, 1.3, 0.75, 0.75, 1, 0.75, 1.3]"
      ]
     },
     "execution_count": 144,
     "metadata": {},
     "output_type": "execute_result"
    }
   ],
   "source": [
    "# Miramos el valor de cada partido, segun la categoria de cada equipo\n",
    "jornada_val = jornada_valor(jornada)\n",
    "jornada_val"
   ]
  },
  {
   "cell_type": "code",
   "execution_count": 145,
   "metadata": {},
   "outputs": [
    {
     "data": {
      "text/plain": [
       "[[0.3, 0.3, 0.36, 0.52, 0.52, 0.3, 0.3, 0.4, 0.3, 0.52],\n",
       " [0.413, 0.413, 0.495, 0.715, 0.715, 0.413, 0.413, 0.55, 0.413, 0.715],\n",
       " [0.525, 0.525, 0.63, 0.91, 0.91, 0.525, 0.525, 0.7, 0.525, 0.91],\n",
       " [0.6, 0.6, 0.72, 1.04, 1.04, 0.6, 0.6, 0.8, 0.6, 1.04],\n",
       " [0.75, 0.75, 0.9, 1.3, 1.3, 0.75, 0.75, 1, 0.75, 1.3],\n",
       " [0.338, 0.338, 0.405, 0.585, 0.585, 0.338, 0.338, 0.45, 0.338, 0.585],\n",
       " [0.562, 0.562, 0.675, 0.975, 0.975, 0.562, 0.562, 0.75, 0.562, 0.975],\n",
       " [0.375, 0.375, 0.45, 0.65, 0.65, 0.375, 0.375, 0.5, 0.375, 0.65],\n",
       " [0.75, 0.75, 0.9, 1.3, 1.3, 0.75, 0.75, 1, 0.75, 1.3],\n",
       " [0.3, 0.3, 0.36, 0.52, 0.52, 0.3, 0.3, 0.4, 0.3, 0.52]]"
      ]
     },
     "execution_count": 145,
     "metadata": {},
     "output_type": "execute_result"
    }
   ],
   "source": [
    "# Modificamos la matriz de costes, segun los valores de la jornada que tenemos\n",
    "costes_mod = mod_costes(jornada_val,costes)\n",
    "costes_mod"
   ]
  },
  {
   "cell_type": "code",
   "execution_count": 146,
   "metadata": {},
   "outputs": [
    {
     "name": "stdout",
     "output_type": "stream",
     "text": [
      "La mejor solucion es: {'s': (5, 7, 2, 3, 4, 0, 1, 6, 9, 8), 'ci': 6.746}\n",
      "Tiempo transcurrido (en segundos): 0.1905210018157959\n"
     ]
    }
   ],
   "source": [
    "# Resultado con Ramificación y poda\n",
    "ramificacion_y_poda(costes_mod)"
   ]
  },
  {
   "cell_type": "code",
   "execution_count": 147,
   "metadata": {},
   "outputs": [],
   "source": [
    "# Juntamos los pasos para generar automaticamente una solución para cualquier jornada\n",
    "def jornada_sol_auto(jornada):\n",
    "    jornada_val = jornada_valor(jornada)\n",
    "    costes_mod = mod_costes(jornada_val,costes)\n",
    "    resultado = ramificacion_y_poda(costes_mod)\n",
    "    return resultado"
   ]
  },
  {
   "cell_type": "code",
   "execution_count": 148,
   "metadata": {},
   "outputs": [
    {
     "name": "stdout",
     "output_type": "stream",
     "text": [
      "La mejor solucion es: {'s': (5, 7, 2, 3, 4, 0, 1, 6, 9, 8), 'ci': 6.746}\n",
      "Tiempo transcurrido (en segundos): 0.18952417373657227\n"
     ]
    }
   ],
   "source": [
    "# Resultado\n",
    "jornada_sol_auto(jornada)"
   ]
  },
  {
   "cell_type": "markdown",
   "metadata": {
    "colab_type": "text",
    "id": "eGDB4K6uk1iN"
   },
   "source": [
    "(*)Calcula la complejidad del algoritmo "
   ]
  },
  {
   "cell_type": "markdown",
   "metadata": {
    "colab_type": "text",
    "id": "NhpTh_BPk1ms"
   },
   "source": [
    "Respuesta"
   ]
  },
  {
   "cell_type": "markdown",
   "metadata": {
    "colab": {},
    "colab_type": "code",
    "id": "nREzhkStlCq8"
   },
   "source": [
    "> La complejidad de este algoritmo es casi lineal O(nlogn)."
   ]
  },
  {
   "cell_type": "markdown",
   "metadata": {
    "colab_type": "text",
    "id": "3M6QjTsSkmYe"
   },
   "source": [
    "Según el problema (y tenga sentido), diseña un juego de datos de entrada aleatorios"
   ]
  },
  {
   "cell_type": "markdown",
   "metadata": {
    "colab_type": "text",
    "id": "Jc3_OlyNkvjZ"
   },
   "source": [
    "Respuesta"
   ]
  },
  {
   "cell_type": "code",
   "execution_count": 149,
   "metadata": {
    "colab": {},
    "colab_type": "code",
    "id": "sJ-N2etjkyWc"
   },
   "outputs": [],
   "source": [
    "# Conjunto de jornadas\n",
    "def conjunto_jornadas(N):\n",
    "    jornadas = []\n",
    "    for _ in range(N):\n",
    "        jornadas.append(generar_jornada())\n",
    "    return jornadas"
   ]
  },
  {
   "cell_type": "code",
   "execution_count": 150,
   "metadata": {
    "scrolled": false
   },
   "outputs": [
    {
     "data": {
      "text/plain": [
       "[[['Eq20', 'Eq19'],\n",
       "  ['Eq17', 'Eq9'],\n",
       "  ['Eq3', 'Eq11'],\n",
       "  ['Eq8', 'Eq18'],\n",
       "  ['Eq1', 'Eq6'],\n",
       "  ['Eq7', 'Eq5'],\n",
       "  ['Eq4', 'Eq12'],\n",
       "  ['Eq14', 'Eq2'],\n",
       "  ['Eq13', 'Eq16'],\n",
       "  ['Eq15', 'Eq10']],\n",
       " [['Eq1', 'Eq14'],\n",
       "  ['Eq6', 'Eq2'],\n",
       "  ['Eq8', 'Eq3'],\n",
       "  ['Eq16', 'Eq18'],\n",
       "  ['Eq5', 'Eq10'],\n",
       "  ['Eq13', 'Eq9'],\n",
       "  ['Eq12', 'Eq11'],\n",
       "  ['Eq20', 'Eq7'],\n",
       "  ['Eq17', 'Eq4'],\n",
       "  ['Eq15', 'Eq19']],\n",
       " [['Eq20', 'Eq19'],\n",
       "  ['Eq2', 'Eq3'],\n",
       "  ['Eq14', 'Eq7'],\n",
       "  ['Eq13', 'Eq11'],\n",
       "  ['Eq8', 'Eq9'],\n",
       "  ['Eq15', 'Eq10'],\n",
       "  ['Eq5', 'Eq18'],\n",
       "  ['Eq17', 'Eq4'],\n",
       "  ['Eq12', 'Eq1'],\n",
       "  ['Eq6', 'Eq16']],\n",
       " [['Eq2', 'Eq6'],\n",
       "  ['Eq13', 'Eq16'],\n",
       "  ['Eq15', 'Eq4'],\n",
       "  ['Eq1', 'Eq9'],\n",
       "  ['Eq17', 'Eq10'],\n",
       "  ['Eq14', 'Eq3'],\n",
       "  ['Eq19', 'Eq12'],\n",
       "  ['Eq20', 'Eq8'],\n",
       "  ['Eq5', 'Eq11'],\n",
       "  ['Eq7', 'Eq18']],\n",
       " [['Eq5', 'Eq2'],\n",
       "  ['Eq18', 'Eq4'],\n",
       "  ['Eq16', 'Eq13'],\n",
       "  ['Eq6', 'Eq14'],\n",
       "  ['Eq8', 'Eq3'],\n",
       "  ['Eq20', 'Eq17'],\n",
       "  ['Eq9', 'Eq7'],\n",
       "  ['Eq15', 'Eq1'],\n",
       "  ['Eq12', 'Eq11'],\n",
       "  ['Eq10', 'Eq19']]]"
      ]
     },
     "execution_count": 150,
     "metadata": {},
     "output_type": "execute_result"
    }
   ],
   "source": [
    "# Conjunto de 10 jornadas\n",
    "jornadas = conjunto_jornadas(5)\n",
    "jornadas"
   ]
  },
  {
   "cell_type": "markdown",
   "metadata": {
    "colab_type": "text",
    "id": "zy5ZROmjlGo1"
   },
   "source": [
    "Aplica el algoritmo al juego de datos generado"
   ]
  },
  {
   "cell_type": "markdown",
   "metadata": {
    "colab_type": "text",
    "id": "_Cmj-PVylMsa"
   },
   "source": [
    "Respuesta"
   ]
  },
  {
   "cell_type": "code",
   "execution_count": 151,
   "metadata": {
    "colab": {},
    "colab_type": "code",
    "id": "Jkx8GeiYlUz1"
   },
   "outputs": [
    {
     "name": "stdout",
     "output_type": "stream",
     "text": [
      "La mejor solucion es: {'s': (7, 5, 2, 9, 3, 1, 4, 8, 0, 6), 'ci': 6.78}\n",
      "Tiempo transcurrido (en segundos): 0.2403888702392578\n",
      "La mejor solucion es: {'s': (3, 6, 4, 9, 1, 2, 7, 0, 8, 5), 'ci': 6.589}\n",
      "Tiempo transcurrido (en segundos): 0.6602368354797363\n",
      "La mejor solucion es: {'s': (7, 4, 5, 1, 6, 9, 0, 3, 8, 2), 'ci': 7.035}\n",
      "Tiempo transcurrido (en segundos): 0.1725330352783203\n",
      "La mejor solucion es: {'s': (3, 1, 2, 6, 5, 4, 0, 9, 8, 7), 'ci': 6.641}\n",
      "Tiempo transcurrido (en segundos): 0.11966705322265625\n",
      "La mejor solucion es: {'s': (3, 1, 5, 7, 4, 0, 2, 8, 9, 6), 'ci': 6.418}\n",
      "Tiempo transcurrido (en segundos): 0.11070036888122559\n"
     ]
    }
   ],
   "source": [
    "res = []\n",
    "for i in jornadas:\n",
    "    res.append(jornada_sol_auto(i)) "
   ]
  },
  {
   "cell_type": "markdown",
   "metadata": {
    "colab_type": "text",
    "id": "eTFWUJQrtGcv"
   },
   "source": [
    "Enumera las referencias que has utilizado(si ha sido necesario) para llevar a cabo el trabajo"
   ]
  },
  {
   "cell_type": "markdown",
   "metadata": {
    "colab_type": "text",
    "id": "YKQ_mRBttWsP"
   },
   "source": [
    "Respuesta"
   ]
  },
  {
   "cell_type": "markdown",
   "metadata": {},
   "source": [
    "> Cualquier resultado de Google que me resolviera las dudas que tenia a la hora de aplicar una función."
   ]
  },
  {
   "cell_type": "markdown",
   "metadata": {
    "colab_type": "text",
    "id": "kAkDPUyRtYyH"
   },
   "source": [
    "Describe brevemente las lineas de como crees que es posible avanzar en el estudio del problema. Ten en cuenta incluso posibles variaciones del problema y/o variaciones al alza del tamaño"
   ]
  },
  {
   "cell_type": "markdown",
   "metadata": {
    "colab_type": "text",
    "id": "IE0uZmo-tZu-"
   },
   "source": [
    "Respuesta"
   ]
  },
  {
   "cell_type": "markdown",
   "metadata": {},
   "source": [
    "> · Se podrian añadir más categorias, más horarios, más equipos (o quitar), y tambíen se podrían añadir más restricciones, cómo la coincidencia de horarios, de otros partidos de otras ligas (como la liga inglesa, italiana, alemana, francesa,etc.)<br><br>\n",
    "> · La coincidencia de horarios en vez de reducir a todos los equipos con el mismo coeficiente, reducirlo con un coeficiente que dependiera de las categorias de los equipos, de tal manera que los equipos con menos categoria tubieran un coeficiente de reducción más elevado que equipos de mayor categoria. Porque la realidad es que un barça-madrid si se solapa con otros partidos de categorias inferiores, no se reducen por igual todos los partidos solapados, el número de espectadores."
   ]
  }
 ],
 "metadata": {
  "colab": {
   "collapsed_sections": [],
   "name": "Seminario - Algoritmos.ipynb",
   "provenance": [],
   "version": "0.3.2"
  },
  "kernelspec": {
   "display_name": "Python 3",
   "language": "python",
   "name": "python3"
  },
  "language_info": {
   "codemirror_mode": {
    "name": "ipython",
    "version": 3
   },
   "file_extension": ".py",
   "mimetype": "text/x-python",
   "name": "python",
   "nbconvert_exporter": "python",
   "pygments_lexer": "ipython3",
   "version": "3.7.3"
  }
 },
 "nbformat": 4,
 "nbformat_minor": 1
}
