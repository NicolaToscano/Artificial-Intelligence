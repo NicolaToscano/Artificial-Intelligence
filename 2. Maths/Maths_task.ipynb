{
 "cells": [
  {
   "cell_type": "markdown",
   "metadata": {},
   "source": [
    "# Algebra Lineal"
   ]
  },
  {
   "cell_type": "markdown",
   "metadata": {},
   "source": [
    "__Ejercicio 1__"
   ]
  },
  {
   "cell_type": "code",
   "execution_count": 1,
   "metadata": {},
   "outputs": [],
   "source": [
    "# Vectores\n",
    "x = [0.1, 0.2, 0, -1.2, -3]\n",
    "y = [0.2, -0.5, 4, -0.5, 0]\n",
    "z = [1.0, 3.4, 5.5, 0, 2.1]\n",
    "t = [0.5, 2.4, 0.7, 3.0, 1.7]\n",
    "v = [0.1, 7.0, 5.6, 4.2, 5.0]\n",
    "w = [2.7, 4.1, 7.8, 9.0, 5.4]"
   ]
  },
  {
   "cell_type": "code",
   "execution_count": 2,
   "metadata": {},
   "outputs": [
    {
     "name": "stdout",
     "output_type": "stream",
     "text": [
      "0.52\n",
      "20.5\n",
      "-5.5200000000000005\n",
      "137.45\n",
      "-8.169999999999998\n"
     ]
    }
   ],
   "source": [
    "# Opción A:\n",
    "import operator\n",
    "\n",
    "def vecdot_a(x,y):\n",
    "    producto_escalar = 0\n",
    "    xy_mul = list(map(operator.mul, x, y))\n",
    "    for i in xy_mul:\n",
    "        producto_escalar = producto_escalar + i\n",
    "    return producto_escalar\n",
    "\n",
    "# Resultados\n",
    "print(vecdot_a(x,y))\n",
    "print(vecdot_a(y,z))\n",
    "print(vecdot_a(x,z))\n",
    "print(vecdot_a(v,w))\n",
    "print(vecdot_a(t,x))"
   ]
  },
  {
   "cell_type": "code",
   "execution_count": 3,
   "metadata": {},
   "outputs": [
    {
     "name": "stdout",
     "output_type": "stream",
     "text": [
      "0.52\n",
      "20.5\n",
      "-5.5200000000000005\n",
      "137.45\n",
      "-8.169999999999998\n"
     ]
    }
   ],
   "source": [
    "# Opción B:\n",
    "def vecdot_b(x,y):\n",
    "    producto_escalar = 0\n",
    "    xy_mul = [x[i] * y[i] for i in range(len(x))]\n",
    "    for i in xy_mul:\n",
    "        producto_escalar = producto_escalar + i\n",
    "    return producto_escalar\n",
    "\n",
    "# Resultados\n",
    "print(vecdot_b(x,y))\n",
    "print(vecdot_b(y,z))\n",
    "print(vecdot_b(x,z))\n",
    "print(vecdot_b(v,w))\n",
    "print(vecdot_b(t,x))"
   ]
  },
  {
   "cell_type": "code",
   "execution_count": 4,
   "metadata": {},
   "outputs": [
    {
     "name": "stdout",
     "output_type": "stream",
     "text": [
      "0.52\n",
      "20.5\n",
      "-5.5200000000000005\n",
      "137.45\n",
      "-8.169999999999998\n"
     ]
    }
   ],
   "source": [
    "# Opción C:\n",
    "def vecdot_c(x,y):\n",
    "    producto_escalar = 0\n",
    "    xy_mul = [c * x[i] for i, c in enumerate(y)]\n",
    "    for i in xy_mul:\n",
    "        producto_escalar = producto_escalar + i\n",
    "    return producto_escalar\n",
    "\n",
    "# Resultados\n",
    "print(vecdot_c(x,y))\n",
    "print(vecdot_c(y,z))\n",
    "print(vecdot_c(x,z))\n",
    "print(vecdot_c(v,w))\n",
    "print(vecdot_c(t,x))"
   ]
  },
  {
   "cell_type": "code",
   "execution_count": 5,
   "metadata": {
    "scrolled": false
   },
   "outputs": [
    {
     "name": "stdout",
     "output_type": "stream",
     "text": [
      "0.52\n",
      "20.5\n",
      "-5.5200000000000005\n",
      "137.45\n",
      "-8.169999999999998\n"
     ]
    }
   ],
   "source": [
    "# Opción D:\n",
    "def vecdot_d(x,y):\n",
    "    producto_escalar = 0\n",
    "    xy_mul = list(map(lambda x,y: x*y, x, y))\n",
    "    for i in xy_mul:\n",
    "        producto_escalar = producto_escalar + i\n",
    "    return producto_escalar\n",
    "\n",
    "# Resultados\n",
    "print(vecdot_d(x,y))\n",
    "print(vecdot_d(y,z))\n",
    "print(vecdot_d(x,z))\n",
    "print(vecdot_d(v,w))\n",
    "print(vecdot_d(t,x))"
   ]
  },
  {
   "cell_type": "markdown",
   "metadata": {},
   "source": [
    "__Ejercicio 2__"
   ]
  },
  {
   "cell_type": "code",
   "execution_count": 6,
   "metadata": {},
   "outputs": [],
   "source": [
    "# Matrices\n",
    "a = [1,2,3,4] # 2x2\n",
    "b = [4,3,2,1] # 2x2\n",
    "c = [1,2,3,4,5,6,7,8,9] # 3x3\n",
    "d = [9,8,7,6,5,4,3,2,1] # 3x3 \n",
    "e = [1,2,3,4,5,6,7,8,9,10,11,12,13,14,15,16] # 4x4\n",
    "f = [16,15,14,13,12,11,10,9,8,7,6,5,4,3,2,1] # 4x4"
   ]
  },
  {
   "cell_type": "code",
   "execution_count": 7,
   "metadata": {},
   "outputs": [
    {
     "name": "stdout",
     "output_type": "stream",
     "text": [
      "[8, 5, 20, 13]\n",
      "[30, 24, 18, 84, 69, 54, 138, 114, 90]\n",
      "[80, 70, 60, 50, 240, 214, 188, 162, 400, 358, 316, 274, 560, 502, 444, 386]\n"
     ]
    }
   ],
   "source": [
    "import math # para hacer la raíz cuadrada\n",
    "import itertools # para concatenar listas dentro de listas\n",
    "\n",
    "def matprod(a,b):\n",
    "    # listas vacías\n",
    "    a_vect=[]\n",
    "    b_vect=[]\n",
    "    ab=[]\n",
    "\n",
    "    # calculamos la dimension\n",
    "    n = int(math.sqrt(len(a)))\n",
    "\n",
    "    # pasamos las listas a vectores\n",
    "    for i in range(0,len(a),n):\n",
    "        a_vect.append(a[i:n+i])\n",
    "    \n",
    "    for i in range(0,len(b),n):\n",
    "        b_vect.append(b[i:n+i])\n",
    "\n",
    "    # creamos una matriz de zeros, para la lista matriz, segun la dimension\n",
    "    for i in range(n):\n",
    "        ab.append([])\n",
    "        for j in range(n):\n",
    "            ab[i].append(0)\n",
    "\n",
    "    # hacemos el producto de las dos matrices a*b\n",
    "    for i in range(len(a_vect)): # iteramos en las filas de a\n",
    "        for j in range(len(b_vect[0])): # iteramos en las columnas de b\n",
    "            for k in range(len(b_vect)): # iteramos en las filas de b\n",
    "                ab[i][j] += a_vect[i][k] * b_vect[k][j]\n",
    "\n",
    "    ab=list(itertools.chain.from_iterable(ab))        \n",
    "    return ab\n",
    "\n",
    "# Resultados\n",
    "print(matprod(a,b))\n",
    "print(matprod(c,d))\n",
    "print(matprod(e,f))"
   ]
  },
  {
   "cell_type": "markdown",
   "metadata": {},
   "source": [
    "> - Para una matriz 2x2 (con el índice k empezando desde 0) a2 = A21\n",
    "> - Para una matriz 3x3 A22 = a4 (con el índice k empezando desde 0)"
   ]
  },
  {
   "cell_type": "markdown",
   "metadata": {},
   "source": [
    "__Ejercicio 3__"
   ]
  },
  {
   "cell_type": "code",
   "execution_count": 8,
   "metadata": {
    "scrolled": false
   },
   "outputs": [
    {
     "name": "stdout",
     "output_type": "stream",
     "text": [
      "- Matriz: \n",
      "[[4 7 7 8 1 0 5 3 9 1]\n",
      " [8 6 9 4 6 1 1 5 9 4]\n",
      " [6 2 2 6 6 3 3 7 6 6]\n",
      " [9 5 7 0 1 2 6 0 3 5]\n",
      " [5 1 4 3 3 4 4 0 0 7]\n",
      " [4 6 7 1 0 1 9 4 4 7]\n",
      " [6 7 0 0 5 0 1 1 7 4]\n",
      " [3 4 3 0 2 4 1 8 1 8]\n",
      " [4 8 5 7 3 6 1 6 5 7]\n",
      " [2 6 0 3 8 5 5 4 4 9]]\n",
      "\n",
      "- Determinante: 14650289.999999948\n",
      "\n",
      "- Rango: 10\n",
      "\n",
      "- Transpuesta: \n",
      "[[4 8 6 9 5 4 6 3 4 2]\n",
      " [7 6 2 5 1 6 7 4 8 6]\n",
      " [7 9 2 7 4 7 0 3 5 0]\n",
      " [8 4 6 0 3 1 0 0 7 3]\n",
      " [1 6 6 1 3 0 5 2 3 8]\n",
      " [0 1 3 2 4 1 0 4 6 5]\n",
      " [5 1 3 6 4 9 1 1 1 5]\n",
      " [3 5 7 0 0 4 1 8 6 4]\n",
      " [9 9 6 3 0 4 7 1 5 4]\n",
      " [1 4 6 5 7 7 4 8 7 9]]\n",
      "\n",
      "- Autovalores: \n",
      "[43.06506204+0.j          7.57702396+2.63010969j  7.57702396-2.63010969j\n",
      " -0.40267053+6.16409914j -0.40267053-6.16409914j -7.13011232+0.j\n",
      " -4.84278991+4.79860427j -4.84278991-4.79860427j  0.22889688+0.j\n",
      " -1.82697363+0.j        ]\n",
      "\n",
      "- Autovectores: \n",
      "(array([43.06506204+0.j        ,  7.57702396+2.63010969j,\n",
      "        7.57702396-2.63010969j, -0.40267053+6.16409914j,\n",
      "       -0.40267053-6.16409914j, -7.13011232+0.j        ,\n",
      "       -4.84278991+4.79860427j, -4.84278991-4.79860427j,\n",
      "        0.22889688+0.j        , -1.82697363+0.j        ]), array([[-0.34438912+0.j        ,  0.26035934+0.27906138j,\n",
      "         0.26035934-0.27906138j,  0.06026896+0.20398268j,\n",
      "         0.06026896-0.20398268j,  0.51140465+0.j        ,\n",
      "         0.10501471-0.03785542j,  0.10501471+0.03785542j,\n",
      "        -0.16636693+0.j        , -0.06685692+0.j        ],\n",
      "       [-0.39988071+0.j        ,  0.02735078+0.13385713j,\n",
      "         0.02735078-0.13385713j, -0.54334193+0.j        ,\n",
      "        -0.54334193-0.j        , -0.28623689+0.j        ,\n",
      "         0.18839769+0.3693535j ,  0.18839769-0.3693535j ,\n",
      "        -0.33271499+0.j        , -0.20670413+0.j        ],\n",
      "       [-0.33174521+0.j        , -0.06611665-0.03146471j,\n",
      "        -0.06611665+0.03146471j,  0.06840109-0.40877368j,\n",
      "         0.06840109+0.40877368j,  0.07103736+0.j        ,\n",
      "        -0.35904907+0.16086968j, -0.35904907-0.16086968j,\n",
      "         0.00609099+0.j        ,  0.04928146+0.j        ],\n",
      "       [-0.29104511+0.j        ,  0.33402761+0.08370219j,\n",
      "         0.33402761-0.08370219j,  0.18414525+0.12388588j,\n",
      "         0.18414525-0.12388588j, -0.52753681+0.j        ,\n",
      "         0.35507391-0.05884013j,  0.35507391+0.05884013j,\n",
      "        -0.26436826+0.j        ,  0.10339195+0.j        ],\n",
      "       [-0.22076605+0.j        ,  0.26404356-0.24679544j,\n",
      "         0.26404356+0.24679544j,  0.12154823-0.38010527j,\n",
      "         0.12154823+0.38010527j, -0.19463176+0.j        ,\n",
      "        -0.05245302-0.09456218j, -0.05245302+0.09456218j,\n",
      "        -0.27930351+0.j        , -0.306568  +0.j        ],\n",
      "       [-0.31840877+0.j        , -0.11815314+0.04368222j,\n",
      "        -0.11815314-0.04368222j,  0.22888789+0.28803183j,\n",
      "         0.22888789-0.28803183j,  0.06135548+0.j        ,\n",
      "         0.50097177+0.j        ,  0.50097177-0.j        ,\n",
      "         0.52085191+0.j        , -0.50868413+0.j        ],\n",
      "       [-0.24347444+0.j        ,  0.17591632+0.02397672j,\n",
      "         0.17591632-0.02397672j, -0.05899625+0.3555485j ,\n",
      "        -0.05899625-0.3555485j , -0.36246798+0.j        ,\n",
      "         0.01704272+0.17546763j,  0.01704272-0.17546763j,\n",
      "        -0.02246431+0.j        , -0.26225847+0.j        ],\n",
      "       [-0.24459735+0.j        , -0.6195502 +0.j        ,\n",
      "        -0.6195502 -0.j        , -0.02108683+0.00838943j,\n",
      "        -0.02108683-0.00838943j, -0.18967174+0.j        ,\n",
      "         0.02119452-0.03270818j,  0.02119452+0.03270818j,\n",
      "        -0.14752498+0.j        , -0.17326772+0.j        ],\n",
      "       [-0.38964821+0.j        , -0.15840016+0.08452198j,\n",
      "        -0.15840016-0.08452198j,  0.05225422-0.00420796j,\n",
      "         0.05225422+0.00420796j,  0.2550959 +0.j        ,\n",
      "        -0.25200014-0.3293456j , -0.25200014+0.3293456j ,\n",
      "         0.64010457+0.j        ,  0.23836774+0.j        ],\n",
      "       [-0.32507572+0.j        , -0.06288338-0.33716753j,\n",
      "        -0.06288338+0.33716753j,  0.09511549-0.0411699j ,\n",
      "         0.09511549+0.0411699j ,  0.31482375+0.j        ,\n",
      "        -0.22134431-0.12271075j, -0.22134431+0.12271075j,\n",
      "         0.10195985+0.j        ,  0.65675043+0.j        ]]))\n",
      "\n",
      "- Factorización QR: \n",
      "(array([[-0.229794  ,  0.37015243,  0.33895197,  0.38888554, -0.34050869,\n",
      "         0.37211755,  0.16624741,  0.03705234,  0.29422714,  0.41720878],\n",
      "       [-0.45958799, -0.08971317,  0.31525831, -0.04352397,  0.54223239,\n",
      "         0.4104085 , -0.44756881,  0.05193147, -0.09255151, -0.07359821],\n",
      "       [-0.34469099, -0.32666551, -0.26823738,  0.5683741 ,  0.00884742,\n",
      "         0.01240957,  0.19588476, -0.53323982, -0.21934064, -0.09175631],\n",
      "       [-0.51703649, -0.28249376,  0.02594439, -0.37089933, -0.32205784,\n",
      "        -0.19057789,  0.11599354,  0.22099493, -0.38606518,  0.40404251],\n",
      "       [-0.28724249, -0.34138943,  0.08388743,  0.20319679,  0.1198269 ,\n",
      "        -0.36319015,  0.17695288,  0.42149484,  0.59200701, -0.21658917],\n",
      "       [-0.229794  ,  0.26640018,  0.37035742, -0.347729  ,  0.00255889,\n",
      "         0.00191999,  0.54257067, -0.26768477, -0.04488918, -0.50008224],\n",
      "       [-0.34469099,  0.19209576, -0.67082028, -0.25528144, -0.23191068,\n",
      "         0.34229845, -0.11472416,  0.05281627,  0.29294573, -0.23748621],\n",
      "       [-0.1723455 ,  0.14792401,  0.01722065, -0.24837912,  0.1345362 ,\n",
      "        -0.4253688 , -0.25219105, -0.58090052,  0.41074753,  0.3429707 ],\n",
      "       [-0.229794  ,  0.47390469,  0.06199086,  0.29910345, -0.23212981,\n",
      "        -0.45476923, -0.41771401,  0.14465622, -0.27430705, -0.31296845],\n",
      "       [-0.114897  ,  0.44445685, -0.33876005,  0.08792161,  0.58830817,\n",
      "        -0.14066557,  0.3785187 ,  0.22863366, -0.15951658,  0.28262979]]), array([[-17.40689519, -14.93660973, -14.47702174,  -8.78962034,\n",
      "        -10.11093582,  -6.54912888, -10.28328131,  -9.88114182,\n",
      "        -14.93660973, -15.74088872],\n",
      "       [  0.        ,   9.63834476,   2.46540011,   4.53530895,\n",
      "          2.79891396,   2.92355363,   3.15434247,   5.43757691,\n",
      "          6.42202487,   5.38313266],\n",
      "       [  0.        ,   0.        ,   8.14479244,   2.40290028,\n",
      "         -4.94508371,  -0.98463045,   2.7443298 ,   0.68076533,\n",
      "          0.11412389,  -1.86042359],\n",
      "       [  0.        ,   0.        ,   0.        ,   8.96658336,\n",
      "          3.60419516,   2.62557012,  -0.70109281,   3.44073223,\n",
      "          3.8267392 ,   0.63567211],\n",
      "       [  0.        ,   0.        ,   0.        ,   0.        ,\n",
      "          6.12298799,   2.4934323 ,   0.04825836,   3.56663617,\n",
      "          0.61640492,   4.94642856],\n",
      "       [  0.        ,   0.        ,   0.        ,   0.        ,\n",
      "          0.        ,  -6.5177776 ,  -1.5118905 ,  -3.08898752,\n",
      "          5.68735001,  -7.87670293],\n",
      "       [  0.        ,   0.        ,   0.        ,   0.        ,\n",
      "          0.        ,   0.        ,   8.36619567,  -1.32208762,\n",
      "         -0.46807608,   3.17415854],\n",
      "       [  0.        ,   0.        ,   0.        ,   0.        ,\n",
      "          0.        ,   0.        ,   0.        ,  -7.24451936,\n",
      "         -1.37970973,  -2.13865815],\n",
      "       [  0.        ,   0.        ,   0.        ,   0.        ,\n",
      "          0.        ,   0.        ,   0.        ,   0.        ,\n",
      "         -0.38694938,   1.6094408 ],\n",
      "       [  0.        ,   0.        ,   0.        ,   0.        ,\n",
      "          0.        ,   0.        ,   0.        ,   0.        ,\n",
      "          0.        ,  -1.27749951]]))\n",
      "\n",
      "- Producto QR: \n",
      "[[ 4.00000000e+00  7.00000000e+00  7.00000000e+00  8.00000000e+00\n",
      "   1.00000000e+00 -1.22146692e-15  5.00000000e+00  3.00000000e+00\n",
      "   9.00000000e+00  1.00000000e+00]\n",
      " [ 8.00000000e+00  6.00000000e+00  9.00000000e+00  4.00000000e+00\n",
      "   6.00000000e+00  1.00000000e+00  1.00000000e+00  5.00000000e+00\n",
      "   9.00000000e+00  4.00000000e+00]\n",
      " [ 6.00000000e+00  2.00000000e+00  2.00000000e+00  6.00000000e+00\n",
      "   6.00000000e+00  3.00000000e+00  3.00000000e+00  7.00000000e+00\n",
      "   6.00000000e+00  6.00000000e+00]\n",
      " [ 9.00000000e+00  5.00000000e+00  7.00000000e+00 -1.27526979e-15\n",
      "   1.00000000e+00  2.00000000e+00  6.00000000e+00  2.41169734e-15\n",
      "   3.00000000e+00  5.00000000e+00]\n",
      " [ 5.00000000e+00  1.00000000e+00  4.00000000e+00  3.00000000e+00\n",
      "   3.00000000e+00  4.00000000e+00  4.00000000e+00  3.58218307e-15\n",
      "   1.77635684e-15  7.00000000e+00]\n",
      " [ 4.00000000e+00  6.00000000e+00  7.00000000e+00  1.00000000e+00\n",
      "   3.24712442e-17  1.00000000e+00  9.00000000e+00  4.00000000e+00\n",
      "   4.00000000e+00  7.00000000e+00]\n",
      " [ 6.00000000e+00  7.00000000e+00  1.37839797e-15  9.14339709e-16\n",
      "   5.00000000e+00  3.71206640e-16  1.00000000e+00  1.00000000e+00\n",
      "   7.00000000e+00  4.00000000e+00]\n",
      " [ 3.00000000e+00  4.00000000e+00  3.00000000e+00  1.44457926e-16\n",
      "   2.00000000e+00  4.00000000e+00  1.00000000e+00  8.00000000e+00\n",
      "   1.00000000e+00  8.00000000e+00]\n",
      " [ 4.00000000e+00  8.00000000e+00  5.00000000e+00  7.00000000e+00\n",
      "   3.00000000e+00  6.00000000e+00  1.00000000e+00  6.00000000e+00\n",
      "   5.00000000e+00  7.00000000e+00]\n",
      " [ 2.00000000e+00  6.00000000e+00  9.80263696e-16  3.00000000e+00\n",
      "   8.00000000e+00  5.00000000e+00  5.00000000e+00  4.00000000e+00\n",
      "   4.00000000e+00  9.00000000e+00]]\n",
      "\n",
      "- Matriz Q: \n",
      "[[-0.229794    0.37015243  0.33895197  0.38888554 -0.34050869  0.37211755\n",
      "   0.16624741  0.03705234  0.29422714  0.41720878]\n",
      " [-0.45958799 -0.08971317  0.31525831 -0.04352397  0.54223239  0.4104085\n",
      "  -0.44756881  0.05193147 -0.09255151 -0.07359821]\n",
      " [-0.34469099 -0.32666551 -0.26823738  0.5683741   0.00884742  0.01240957\n",
      "   0.19588476 -0.53323982 -0.21934064 -0.09175631]\n",
      " [-0.51703649 -0.28249376  0.02594439 -0.37089933 -0.32205784 -0.19057789\n",
      "   0.11599354  0.22099493 -0.38606518  0.40404251]\n",
      " [-0.28724249 -0.34138943  0.08388743  0.20319679  0.1198269  -0.36319015\n",
      "   0.17695288  0.42149484  0.59200701 -0.21658917]\n",
      " [-0.229794    0.26640018  0.37035742 -0.347729    0.00255889  0.00191999\n",
      "   0.54257067 -0.26768477 -0.04488918 -0.50008224]\n",
      " [-0.34469099  0.19209576 -0.67082028 -0.25528144 -0.23191068  0.34229845\n",
      "  -0.11472416  0.05281627  0.29294573 -0.23748621]\n",
      " [-0.1723455   0.14792401  0.01722065 -0.24837912  0.1345362  -0.4253688\n",
      "  -0.25219105 -0.58090052  0.41074753  0.3429707 ]\n",
      " [-0.229794    0.47390469  0.06199086  0.29910345 -0.23212981 -0.45476923\n",
      "  -0.41771401  0.14465622 -0.27430705 -0.31296845]\n",
      " [-0.114897    0.44445685 -0.33876005  0.08792161  0.58830817 -0.14066557\n",
      "   0.3785187   0.22863366 -0.15951658  0.28262979]]\n",
      "\n",
      "- Determinante de Q: \n",
      "-1.0000000000000004\n",
      "\n",
      "- Producto entre filas de Q: \n",
      "[3.2612801348363973e-16, -3.0531133177191805e-16, 1.1102230246251565e-16, -3.7470027081099033e-16, 1.3877787807814457e-16, -1.1102230246251565e-16, 6.245004513516506e-17, -9.71445146547012e-17, 1.3877787807814457e-16]\n",
      "\n",
      "- Norma Vectores de Q: \n",
      "[1.0000000000000002, 0.9999999999999998, 1.0, 1.0, 1.0, 1.0, 1.0, 1.0, 1.0, 1.0]\n"
     ]
    }
   ],
   "source": [
    "import numpy as np\n",
    "\n",
    "# Matriz\n",
    "M = np.random.randint(10,size=(10,10))\n",
    "print(\"- Matriz: \"+ '\\n' + str(M) + '\\n')\n",
    "\n",
    "# Determinante\n",
    "M_det = np.linalg.det(M)\n",
    "print(\"- Determinante: \" + str(M_det) + '\\n')\n",
    "\n",
    "# Rango\n",
    "M_rang = np.linalg.matrix_rank(M)\n",
    "print(\"- Rango: \" + str(M_rang) + '\\n')\n",
    "\n",
    "# Transpuesta\n",
    "M_transp = np.transpose(M)\n",
    "print(\"- Transpuesta: \" + '\\n' + str(M_transp) + '\\n')\n",
    "\n",
    "# Autovalores\n",
    "M_autoval = np.linalg.eigvals(M)\n",
    "print(\"- Autovalores: \" + '\\n' + str(M_autoval) + '\\n')\n",
    "\n",
    "# Autovectores\n",
    "M_autovect = np.linalg.eig(M)\n",
    "print(\"- Autovectores: \" + '\\n' + str(M_autovect) + '\\n')\n",
    "\n",
    "# Factorización QR\n",
    "M_factQR = np.linalg.qr(M)\n",
    "print(\"- Factorización QR: \" + '\\n' + str(M_factQR) + '\\n')\n",
    "\n",
    "# Producto Q*R\n",
    "M_prodQR = M_factQR[0] @ M_factQR[1]\n",
    "print(\"- Producto QR: \" + '\\n' + str(M_prodQR) + '\\n')\n",
    "\n",
    "# Determinante de Q\n",
    "Q = M_factQR[0]\n",
    "print(\"- Matriz Q: \" + '\\n' + str(Q) + '\\n')\n",
    "Q_det = np.linalg.det(Q)\n",
    "print(\"- Determinante de Q: \" + '\\n' + str(Q_det) + '\\n')\n",
    "\n",
    "# Producto de los vectores de Q (si el producto es igual a 0, los vectores son ortogonales)\n",
    "result_ortoVectQ = [Q[i] @ Q[i+1] for i in range(np.linalg.matrix_rank(Q)-1)]\n",
    "print(\"- Producto entre filas de Q: \" + '\\n' + str(result_ortoVectQ) + '\\n')\n",
    "\n",
    "# Norma de los vectores Q\n",
    "result_normaVectQ=[np.linalg.norm(Q[i]) for i in range(np.linalg.matrix_rank(Q))]\n",
    "print(\"- Norma Vectores de Q: \" + '\\n'  + str(result_normaVectQ))"
   ]
  },
  {
   "cell_type": "markdown",
   "metadata": {},
   "source": [
    ">- El producto de los factores Q y R es igual a la matriz original.\n",
    ">- El producto entre filas de Q es cero, por lo tanto significa que son vectores ortogonales entre si.\n",
    ">- También se puede comprovar que la norma de vectores de Q es 1."
   ]
  },
  {
   "cell_type": "markdown",
   "metadata": {},
   "source": [
    "__Ejercicio 4__"
   ]
  },
  {
   "cell_type": "code",
   "execution_count": 9,
   "metadata": {},
   "outputs": [
    {
     "name": "stdout",
     "output_type": "stream",
     "text": [
      "- Solución:[ 1.  -1.   0.5 -0.5]\n",
      "\n",
      "- Determinante de A: 37.99999999999999\n",
      "\n",
      "- Rango de A: 4\n",
      "\n",
      "- Matriz de Ab: \n",
      "[[ 1  1  1  1  0]\n",
      " [ 2  3  4  0  1]\n",
      " [ 5  1  0  2  3]\n",
      " [ 0 -1  2  0  2]]\n",
      "\n",
      "- Rango de Ab: 4\n"
     ]
    }
   ],
   "source": [
    "# Sistema de ecuaciones\n",
    "A = np.array((1, 1, 1, 1, 2, 3, 4, 0, 5, 1, 0, 2, 0, -1, 2, 0)).reshape(4,4)\n",
    "b = np.array((0, 1, 3, 2))\n",
    "\n",
    "# Solución\n",
    "x = np.linalg.solve(A,b)\n",
    "print(\"- Solución:\" + str(x) + '\\n')\n",
    "\n",
    "# Determinante de A\n",
    "A_det = np.linalg.det(A)\n",
    "print(\"- Determinante de A: \" + str(A_det) + '\\n')\n",
    "\n",
    "# Rango de A\n",
    "A_rang = np.linalg.matrix_rank(A)\n",
    "print(\"- Rango de A: \" + str(A_rang) + '\\n')\n",
    "\n",
    "# Determinante de Ab\n",
    "Ab = np.concatenate((A, b.reshape(4,1)), axis = 1)\n",
    "print(\"- Matriz de Ab: \" + '\\n' + str(Ab) + '\\n')\n",
    "Ab_rang = np.linalg.matrix_rank(Ab)\n",
    "print(\"- Rango de Ab: \" + str(Ab_rang))"
   ]
  },
  {
   "cell_type": "markdown",
   "metadata": {},
   "source": [
    "> Solo admite una única solución porque es un sistema compatible y definido. Esto lo sabemo a través del teorema de Rouché-Frobenius. Es compatible porque el rango de A es el mismo que el rango de Ab, 4. Y es definido porque el rango de A y de Ab son iguales al número de incógnitas, 4."
   ]
  },
  {
   "cell_type": "markdown",
   "metadata": {},
   "source": [
    "__Ejercicio 5__"
   ]
  },
  {
   "cell_type": "code",
   "execution_count": 10,
   "metadata": {
    "scrolled": false
   },
   "outputs": [
    {
     "name": "stdout",
     "output_type": "stream",
     "text": [
      "- Matriz M_5: \n",
      "[[0.5 0.  0.5]\n",
      " [0.2 0.4 0.4]\n",
      " [0.3 0.3 0.4]]\n",
      "- Autovalores: \n",
      "[ 1.          0.33027756 -0.03027756]\n",
      "\n",
      "\n",
      "- Matriz estocástica 3x3: \n",
      "[[0.53255789 0.20173219 0.26570992]\n",
      " [0.36392576 0.5159212  0.12015304]\n",
      " [0.65805161 0.01681154 0.32513685]]\n",
      "- Comprovación (suma de las filas): \n",
      "[1. 1. 1.]\n",
      "- Matriz estocástica 3x3 Autovalores: \n",
      "[ 1.         -0.02089953  0.39451547]\n",
      "\n",
      "\n",
      "- Matriz estocástica 4x4: \n",
      "[[0.54513225 0.09503924 0.23261224 0.12721627]\n",
      " [0.05516108 0.36694942 0.30891309 0.26897642]\n",
      " [0.11030121 0.0484552  0.58180892 0.25943467]\n",
      " [0.06174889 0.53003137 0.38149968 0.02672007]]\n",
      "- Comprovación (suma de las filas): \n",
      "[1. 1. 1. 1.]\n",
      "- Matriz estocástica 4x4 Autovalores: \n",
      "[ 1.          0.46237035  0.29938139 -0.24114107]\n",
      "\n",
      "\n",
      "- Matriz estocástica 5x5: \n",
      "[[0.26686315 0.12467119 0.54069448 0.00638355 0.06138763]\n",
      " [0.15289931 0.1572934  0.04464686 0.35106309 0.29409733]\n",
      " [0.20701349 0.60320099 0.06736982 0.0701631  0.0522526 ]\n",
      " [0.03886431 0.06638502 0.76785182 0.11899768 0.00790117]\n",
      " [0.00409845 0.16660083 0.17055759 0.15832293 0.5004202 ]]\n",
      "- Comprovación (suma de las filas): \n",
      "[1. 1. 1. 1. 1.]\n",
      "- Matriz estocástica 4x4 Autovalores: \n",
      "[ 1.        +0.j         -0.22801369+0.40384355j -0.22801369-0.40384355j\n",
      "  0.37313778+0.j          0.19383385+0.j        ]\n",
      "\n",
      "\n",
      "- Matriz estocástica 5x5: \n",
      "[[8.61381994e-02 5.14885528e-03 1.41924934e-01 1.45684951e-02\n",
      "  4.10478697e-02 2.50018267e-01 5.80856700e-02 5.31295515e-02\n",
      "  4.28558192e-02 8.46794962e-03 2.05035178e-02 1.17373089e-03\n",
      "  2.67457137e-02 6.22128587e-02 1.84661262e-02 4.28007989e-02\n",
      "  6.60899126e-03 2.35072040e-02 6.09967589e-02 3.55986884e-02]\n",
      " [3.87076066e-02 1.56334751e-01 4.06520284e-02 4.18902912e-02\n",
      "  1.77304448e-02 1.35198657e-02 2.48248062e-03 8.64877579e-02\n",
      "  2.94571966e-02 1.99736119e-03 1.29281437e-01 4.51360181e-02\n",
      "  5.46640763e-02 1.10104694e-01 6.67712806e-02 1.89113984e-02\n",
      "  1.85645652e-02 9.74892852e-02 1.93092187e-02 1.05082420e-02]\n",
      " [2.56457871e-02 1.64724036e-02 1.08050063e-01 5.11635327e-02\n",
      "  1.61763761e-01 1.08390768e-01 8.91976941e-02 5.47545599e-02\n",
      "  5.53218150e-02 7.75772674e-02 1.96973735e-02 5.38316972e-02\n",
      "  1.36965239e-01 7.05208062e-03 6.64341675e-03 2.70419793e-04\n",
      "  3.42794856e-03 9.52499981e-03 3.15828531e-04 1.39333440e-02]\n",
      " [2.79878877e-02 9.87668808e-02 8.19601056e-02 5.35329946e-02\n",
      "  5.67184124e-02 2.03138792e-02 9.24457569e-03 6.24453945e-03\n",
      "  4.17025083e-02 4.58636413e-03 2.85873576e-02 4.49231689e-02\n",
      "  1.08367723e-01 7.73688597e-03 2.74458916e-02 6.05630771e-02\n",
      "  1.51772149e-02 1.74369186e-03 4.17586860e-02 2.62638156e-01]\n",
      " [1.15476136e-02 4.25429506e-02 1.51699292e-01 4.96176742e-02\n",
      "  2.47749424e-02 3.94587734e-02 8.40882123e-02 1.04759276e-02\n",
      "  2.20080089e-02 1.04210118e-02 3.04613610e-02 7.21952998e-02\n",
      "  7.83471022e-02 9.38644803e-02 1.96905744e-02 7.06158662e-02\n",
      "  3.45979807e-02 7.32031335e-02 3.34229718e-02 4.69668231e-02]\n",
      " [4.11147418e-03 6.99596523e-02 2.73835110e-02 9.15480826e-02\n",
      "  4.35710587e-02 8.76203591e-03 1.24955251e-02 3.75849497e-02\n",
      "  4.35890349e-02 3.84161450e-02 5.84120443e-03 6.15288924e-02\n",
      "  7.44876645e-02 8.45944715e-02 1.33453564e-01 3.19558396e-03\n",
      "  2.12487274e-02 1.40831979e-02 1.36964325e-01 8.71808994e-02]\n",
      " [2.59883804e-02 2.29613794e-02 2.20902977e-02 1.42973821e-01\n",
      "  2.18845602e-02 3.23602660e-02 1.40953502e-01 1.48074106e-01\n",
      "  8.34618394e-02 6.78737569e-02 3.39625998e-02 9.28878319e-03\n",
      "  1.94342488e-02 1.89768662e-02 1.01147983e-01 2.30164940e-02\n",
      "  1.94162673e-02 4.40070599e-02 9.52372337e-03 1.26040661e-02]\n",
      " [4.88073207e-02 1.08183483e-01 3.11061863e-02 8.11533700e-03\n",
      "  2.85886214e-03 2.71435050e-01 4.01640069e-02 1.59264505e-01\n",
      "  2.49508286e-02 1.04528494e-01 9.40051661e-03 8.12916271e-03\n",
      "  1.78214120e-02 1.97347325e-02 5.07282816e-02 1.88230523e-02\n",
      "  1.19589577e-02 3.32101809e-02 2.63358454e-02 4.44378516e-03]\n",
      " [4.03720853e-02 2.68957812e-02 9.96614491e-03 1.30523162e-02\n",
      "  1.60520212e-01 1.72179496e-01 9.31062059e-02 3.50693037e-02\n",
      "  2.32924348e-02 2.03276591e-02 1.07882780e-02 2.27155231e-02\n",
      "  1.33498349e-02 3.84044155e-02 3.83134178e-02 4.29176261e-02\n",
      "  9.51742288e-02 4.02570775e-02 3.53492990e-02 6.79486595e-02]\n",
      " [4.33488122e-02 1.23162415e-02 2.18776882e-02 2.45312379e-02\n",
      "  4.22013188e-02 5.55215348e-02 6.94534078e-03 1.19663499e-01\n",
      "  1.05111414e-01 4.36313274e-02 4.69410947e-02 6.32228640e-02\n",
      "  6.25222460e-02 6.68986359e-02 3.43464547e-02 2.71682786e-02\n",
      "  2.06062438e-02 7.24671758e-03 2.46320913e-02 1.71266959e-01]\n",
      " [4.91880467e-03 1.08519178e-01 1.93302640e-02 6.20864410e-02\n",
      "  1.09223607e-02 4.32153812e-02 6.43167921e-02 1.44763732e-02\n",
      "  5.30797250e-02 1.62327849e-02 9.24652280e-03 2.90019384e-03\n",
      "  3.09914991e-02 2.10706374e-01 1.24531012e-02 4.79381893e-02\n",
      "  5.68335283e-02 1.21721442e-01 6.37701682e-02 4.63408757e-02]\n",
      " [2.79727914e-02 1.67037800e-03 2.62200907e-02 1.46264298e-01\n",
      "  4.53362837e-02 3.41552541e-02 3.91206765e-02 8.74907366e-02\n",
      "  3.96642125e-02 2.28518859e-02 7.54692337e-03 5.07634893e-02\n",
      "  6.80468144e-02 1.42939778e-02 5.33426121e-02 4.15071556e-02\n",
      "  2.08341154e-02 9.27025571e-02 1.30133754e-01 5.00819941e-02]\n",
      " [5.33923593e-02 1.19088106e-02 8.54768322e-03 4.12637599e-02\n",
      "  3.48932632e-02 8.38069054e-02 1.10362601e-02 3.45823514e-02\n",
      "  5.70051651e-02 4.50763898e-02 5.50997702e-02 2.94024751e-03\n",
      "  1.24910559e-01 1.11296537e-03 1.09575160e-01 2.43547867e-02\n",
      "  1.95704286e-02 1.06718110e-01 1.41730492e-01 3.24745331e-02]\n",
      " [6.21148806e-02 7.49604878e-03 6.96997190e-02 6.60580621e-02\n",
      "  1.37745328e-02 1.50079125e-01 4.74089890e-02 1.91917523e-02\n",
      "  1.75663797e-02 9.71427225e-02 9.61880615e-03 2.85962906e-02\n",
      "  3.98492292e-02 4.37951953e-02 1.30652611e-01 3.78957780e-03\n",
      "  1.69212469e-02 2.84243210e-02 7.75009667e-03 1.40070415e-01]\n",
      " [2.90752681e-02 5.12876018e-02 2.53877577e-03 9.04666277e-02\n",
      "  3.66159515e-02 4.08317500e-02 8.18449560e-02 2.89365774e-02\n",
      "  1.25672788e-02 7.71507978e-02 9.96751481e-02 3.68319808e-02\n",
      "  9.60850905e-03 8.91610737e-03 1.92558320e-02 1.47195249e-01\n",
      "  4.75244877e-02 5.00542780e-02 2.55729973e-02 1.04049826e-01]\n",
      " [6.31421942e-03 3.35233218e-03 6.28812985e-02 7.50164050e-02\n",
      "  4.06329101e-02 2.47541278e-02 1.58092624e-02 4.38094269e-02\n",
      "  5.46892094e-02 1.36217926e-01 7.06053265e-02 6.43710301e-03\n",
      "  2.90804386e-03 2.87657192e-02 1.13280640e-01 7.19883205e-02\n",
      "  2.79755180e-02 1.97989294e-02 2.86075918e-02 1.66155689e-01]\n",
      " [3.74254221e-02 6.97907810e-02 9.87205596e-03 1.00417878e-02\n",
      "  3.33127358e-03 3.81338481e-02 1.17960902e-01 1.29312259e-02\n",
      "  1.16674827e-01 8.54713536e-02 2.55365642e-02 1.06137775e-01\n",
      "  3.02074680e-02 2.70858087e-02 2.04262900e-03 2.70227738e-02\n",
      "  8.06748598e-02 2.67204147e-02 1.36402079e-01 3.65361497e-02]\n",
      " [1.47600093e-03 2.96916592e-02 7.52725397e-02 2.05453711e-02\n",
      "  2.87536730e-02 6.05754317e-02 8.36736626e-02 9.73347095e-03\n",
      "  1.36590662e-01 7.40267494e-03 3.64162589e-02 5.37386218e-02\n",
      "  1.31740005e-01 1.77923948e-02 3.37342002e-04 1.49278936e-02\n",
      "  8.86292633e-03 9.61222712e-02 8.95827705e-02 9.67643696e-02]\n",
      " [1.08735144e-01 9.74062595e-02 2.44516166e-03 2.30573004e-02\n",
      "  4.15687194e-02 6.53815765e-02 3.42152225e-02 4.79716677e-03\n",
      "  3.85395685e-02 1.05546569e-02 2.82248970e-02 7.80710528e-02\n",
      "  1.19717480e-01 1.31072819e-01 1.99218811e-02 1.85921714e-03\n",
      "  1.35298471e-02 3.46097096e-02 1.17572817e-01 2.87195034e-02]\n",
      " [3.08359990e-02 4.54408983e-02 6.06141323e-02 8.64894914e-02\n",
      "  3.97332451e-02 6.09034201e-02 1.08604678e-01 9.14377964e-04\n",
      "  8.26947306e-02 1.00366713e-01 1.08984470e-03 5.16321043e-02\n",
      "  7.90776030e-03 3.68337169e-02 1.20486737e-01 2.31819700e-02\n",
      "  4.96984462e-02 6.06870020e-03 3.49427327e-02 5.15603016e-02]]\n",
      "- Comprovación (suma de las filas): \n",
      "[1. 1. 1. 1. 1. 1. 1. 1. 1. 1. 1. 1. 1. 1. 1. 1. 1. 1. 1. 1.]\n",
      "- Matriz estocástica 4x4 Autovalores: \n",
      "[ 1.        +0.j         -0.17216485+0.j         -0.15113725+0.j\n",
      " -0.0938203 +0.10040203j -0.0938203 -0.10040203j -0.08886953+0.j\n",
      " -0.05103233+0.09483798j -0.05103233-0.09483798j -0.00449462+0.13384668j\n",
      " -0.00449462-0.13384668j  0.22407583+0.j          0.05518909+0.10910228j\n",
      "  0.05518909-0.10910228j  0.17225006+0.07534931j  0.17225006-0.07534931j\n",
      "  0.01655915+0.j          0.12160762+0.06833411j  0.12160762-0.06833411j\n",
      "  0.09765032+0.j          0.1451122 +0.j        ]\n",
      "\n",
      "\n"
     ]
    }
   ],
   "source": [
    "# Matriz\n",
    "M_5 = np.array((0.5, 0, 0.5, 0.2, 0.4, 0.4, 0.3, 0.3, 0.4)).reshape(3,3)\n",
    "print(\"- Matriz M_5: \" + '\\n' + str(M_5))\n",
    "\n",
    "# Autovalores\n",
    "M_5_autoval = np.linalg.eigvals(M_5)\n",
    "print(\"- Autovalores: \" + '\\n' + str(M_5_autoval) + 2*'\\n')\n",
    "\n",
    "# Matriz estocástica 3x3 aleatoria\n",
    "M_est_3x3 = np.random.dirichlet(np.ones(3),size=3)\n",
    "print(\"- Matriz estocástica 3x3: \" + '\\n' + str(M_est_3x3))\n",
    "M_est_3x3_comp = np.sum(M_est_3x3, axis=1)\n",
    "print(\"- Comprovación (suma de las filas): \" + '\\n' + str(M_est_3x3_comp))\n",
    "M_est_3x3_autoval = np.linalg.eigvals(M_est_3x3)\n",
    "print(\"- Matriz estocástica 3x3 Autovalores: \" + '\\n' + str(M_est_3x3_autoval) + 2*'\\n')\n",
    "\n",
    "# Matriz estocástica 4x4 aleatoria\n",
    "M_est_4x4 = np.random.dirichlet(np.ones(4),size=4)\n",
    "print(\"- Matriz estocástica 4x4: \" + '\\n' + str(M_est_4x4))\n",
    "M_est_4x4_comp = np.sum(M_est_4x4, axis=1)\n",
    "print(\"- Comprovación (suma de las filas): \" + '\\n' + str(M_est_4x4_comp))\n",
    "M_est_4x4_autoval = np.linalg.eigvals(M_est_4x4)\n",
    "print(\"- Matriz estocástica 4x4 Autovalores: \" + '\\n' + str(M_est_4x4_autoval) + 2*'\\n')\n",
    "\n",
    "# Matriz estocástica 5x5 aleatoria\n",
    "M_est_5x5 = np.random.dirichlet(np.ones(5),size=5)\n",
    "print(\"- Matriz estocástica 5x5: \" + '\\n' + str(M_est_5x5))\n",
    "M_est_5x5_comp = np.sum(M_est_5x5, axis=1)\n",
    "print(\"- Comprovación (suma de las filas): \" + '\\n' + str(M_est_5x5_comp))\n",
    "M_est_5x5_autoval = np.linalg.eigvals(M_est_5x5)\n",
    "print(\"- Matriz estocástica 4x4 Autovalores: \" + '\\n' + str(M_est_5x5_autoval) + 2*'\\n')\n",
    "\n",
    "# Matriz estocástica 20x20 aleatoria\n",
    "M_est_20x20 = np.random.dirichlet(np.ones(20),size=20)\n",
    "print(\"- Matriz estocástica 5x5: \" + '\\n' + str(M_est_20x20))\n",
    "M_est_20x20_comp = np.sum(M_est_20x20, axis=1)\n",
    "print(\"- Comprovación (suma de las filas): \" + '\\n' + str(M_est_20x20_comp))\n",
    "M_est_20x20_autoval = np.linalg.eigvals(M_est_20x20)\n",
    "print(\"- Matriz estocástica 4x4 Autovalores: \" + '\\n' + str(M_est_20x20_autoval) + 2*'\\n')"
   ]
  },
  {
   "cell_type": "markdown",
   "metadata": {},
   "source": [
    "# Análisis Real"
   ]
  },
  {
   "cell_type": "markdown",
   "metadata": {},
   "source": [
    "__Ejercicio 1__"
   ]
  },
  {
   "cell_type": "code",
   "execution_count": 11,
   "metadata": {},
   "outputs": [
    {
     "name": "stdout",
     "output_type": "stream",
     "text": [
      "- p(x):\n",
      "['10x^10', '9x^9', '8x^8', '7x^7', '6x^6', '5x^5', '4x^4', '3x^3', '2x^2', '1x^1']\n",
      "\n",
      "- p_derivada(x):\n",
      "['100x^9', '81x^8', '64x^7', '49x^6', '36x^5', '25x^4', '16x^3', '9x^2', '4x^1', '1x^0']\n",
      "\n",
      "- p_derivada(-1)\n",
      "-385\n"
     ]
    }
   ],
   "source": [
    "def derivpol(x,a=[]):\n",
    "    p = []\n",
    "    p_deriv = []\n",
    "    p_deriv_value = 0\n",
    "    \n",
    "    # Función p\n",
    "    for i in range(len(a)):\n",
    "        p.append(str(a[i]) + str('x^') + str(len(a)-i))\n",
    "    print((str('- p(x):') + '\\n' + str(p))+ '\\n')\n",
    "    \n",
    "   # Derivada de la función p y valor de la derivada en x\n",
    "    for i in range(len(a)):\n",
    "        p_deriv.append(str(a[i]*(len(a)-i)) + str('x^') + str(len(a)-i-1))\n",
    "        p_deriv_value = p_deriv_value + a[i]*(len(a)-i)*x\n",
    "    print(str(\"- p_derivada(x):\") + '\\n' + str(p_deriv) + '\\n')\n",
    "    print(str(\"- p_derivada(\") + str(x) + str(')') + '\\n' + str(p_deriv_value))\n",
    "   \n",
    "derivpol(-1,[10,9,8,7,6,5,4,3,2,1])   "
   ]
  },
  {
   "cell_type": "markdown",
   "metadata": {},
   "source": [
    "__Ejercicio 2__"
   ]
  },
  {
   "cell_type": "code",
   "execution_count": 34,
   "metadata": {},
   "outputs": [
    {
     "data": {
      "image/png": "[encoded data removed]",
      "text/plain": [
       "<Figure size 432x288 with 1 Axes>"
      ]
     },
     "metadata": {
      "needs_background": "light"
     },
     "output_type": "display_data"
    }
   ],
   "source": [
    "import matplotlib.pyplot as plt\n",
    "\n",
    "def f(x):\n",
    "    return(x**3 - x**2)\n",
    "\n",
    "# Gráfica\n",
    "xx = np.linspace(-0.5, 1.5)\n",
    "yy = f(xx)\n",
    "plt.plot(xx,yy)\n",
    "plt.show()"
   ]
  },
  {
   "cell_type": "code",
   "execution_count": 13,
   "metadata": {},
   "outputs": [
    {
     "name": "stdout",
     "output_type": "stream",
     "text": [
      "- Primera derivada de f:\n",
      "   2\n",
      "3 x - 2 x\n",
      "\n",
      "- Puntos críticos de f:\n",
      "[0.66666667 0.        ]\n",
      "\n",
      "- Segunda derivada de f:\n",
      " \n",
      "6 x - 2\n",
      "\n",
      "- Punto crítico 1 en f''(x):2.0\n",
      "- Punto crítico 2 en f''(x):-2.0\n"
     ]
    }
   ],
   "source": [
    "# f'(x) primera derivada de f\n",
    "f_coef = np.poly1d([1,-1,0,0])\n",
    "f_1_derivada = np.polyder(f_coef)\n",
    "print(\"- Primera derivada de f:\" + '\\n' + str(f_1_derivada) + '\\n')\n",
    "\n",
    "# Puntos críticos de f (f'(x)=0)\n",
    "f_puntos_criticos = np.roots(f_1_derivada)\n",
    "print(\"- Puntos críticos de f:\" + '\\n' + str(f_puntos_criticos) + '\\n')\n",
    "\n",
    "# f''(x) segunda derivada de f \n",
    "f_2_coef = np.poly1d([3,-2,0])\n",
    "f_2_derivada = np.polyder(f_2_coef)\n",
    "print(\"- Segunda derivada de f:\" + '\\n' + str(f_2_derivada) + '\\n')\n",
    "\n",
    "# Evaluamos los puntos críticos en f''(x) (para saber si es un máximo o minimo relativo)\n",
    "f_2_derivada_pc_1 = f_2_derivada(f_puntos_criticos[0])\n",
    "f_2_derivada_pc_2 = f_2_derivada(f_puntos_criticos[1])\n",
    "print(\"- Punto crítico 1 en f''(x):\" + str(f_2_derivada_pc_1))\n",
    "print(\"- Punto crítico 2 en f''(x):\" + str(f_2_derivada_pc_2))"
   ]
  },
  {
   "cell_type": "markdown",
   "metadata": {},
   "source": [
    "> El punto crítico 0.67, es un mínimo porque evaluado en la segunda derivada es mayor que 0. Y el punto crítico 0, es un máximo porque evaluado en la segunda derivada es inferior a cero."
   ]
  },
  {
   "cell_type": "code",
   "execution_count": 14,
   "metadata": {},
   "outputs": [
    {
     "name": "stdout",
     "output_type": "stream",
     "text": [
      "- Función p:\n",
      "   3     2\n",
      "1 x - 1 x\n",
      "\n",
      "- Puntos críticos de p:\n",
      "[0.66666667 0.        ]\n",
      "\n",
      "- p(puntos críticos):\n",
      "[-0.14814814814814814, 0.0]\n"
     ]
    }
   ],
   "source": [
    "def polp(pcoef=[]):\n",
    "    p_coef = np.poly1d(pcoef)\n",
    "    print(\"- Función p:\" + '\\n' + str(p_coef) + '\\n')\n",
    "    p_derivada = np.polyder(p_coef)\n",
    "    p_puntos_criticos = np.roots(p_derivada)\n",
    "    print(\"- Puntos críticos de p:\" + '\\n' + str(p_puntos_criticos) + '\\n')\n",
    "    result_p_pc = [p_coef(p_puntos_criticos[i]) for i in range(len(p_puntos_criticos))]\n",
    "    print(\"- p(puntos críticos):\" + '\\n' + str(result_p_pc))\n",
    "\n",
    "# Resultados\n",
    "polp([1,-1,0,0])"
   ]
  },
  {
   "cell_type": "markdown",
   "metadata": {},
   "source": [
    "__Ejercicio 3__"
   ]
  },
  {
   "cell_type": "markdown",
   "metadata": {},
   "source": [
    "$ · \\space Resolucíon \\space sin \\space código:$\n",
    "\n",
    "$f(x,y) = x^2+y^2-xy+2x=0$\n",
    "\n",
    "$- \\space Gradiente:$\n",
    "\n",
    "$2x-y+2=0$\n",
    "\n",
    "$2y-x=0$ \n",
    "\n",
    "$- \\space Puntos \\space críticos:$\n",
    "\n",
    "$Aislamos \\space la \\space x \\space en \\space la \\space 2a \\space ecuación:$\n",
    "\n",
    "\n",
    "$2y-x=0 \\rightarrow x = 2y$\n",
    "\n",
    "$Y \\space sustituimos \\space en \\space la \\space 1era \\space ecuación:$\n",
    "\n",
    "$2\\cdot(2y)-y+2=0$\n",
    "\n",
    "$4y-y+2=0$\n",
    "\n",
    "$3y=-2$\n",
    "\n",
    "$Obtenemos \\space y:$\n",
    "\n",
    "$y= \\frac{-2}{3}$\n",
    "\n",
    "$Sustituimos \\space y \\space en \\space la \\space 1era \\space ecuación \\space aislada:$\n",
    "\n",
    "$x = 2\\cdot\\frac{-2}{3}$\n",
    "\n",
    "$Obtenemos \\space x:$\n",
    "\n",
    "$x = \\frac{-4}{3}$"
   ]
  },
  {
   "cell_type": "markdown",
   "metadata": {},
   "source": [
    "> Sólo hay un único punto crítico (-4/3,-2/3)."
   ]
  },
  {
   "cell_type": "code",
   "execution_count": 15,
   "metadata": {
    "scrolled": true
   },
   "outputs": [
    {
     "name": "stdout",
     "output_type": "stream",
     "text": [
      "- Gradiente: Matrix([[2*x - y + 2], [-x + 2*y]])\n",
      "- Puntos críticos: {x: -4/3, y: -2/3}\n"
     ]
    }
   ],
   "source": [
    "# Resolución con código\n",
    "import sympy as sym\n",
    "from sympy.matrices import zeros\n",
    "\n",
    "def gradient(f, varls):\n",
    "    n = len(varls)\n",
    "    G = zeros(n,1)\n",
    "    for i in range(n):\n",
    "        G[i] = f.diff(varls[i])\n",
    "    return G\n",
    "\n",
    "# Función\n",
    "x,y = sym.symbols(\"x,y\")\n",
    "F = x**2 + y**2 - x*y + 2*x\n",
    "\n",
    "# Gradiente\n",
    "G = gradient(F,(x,y))\n",
    "print(\"- Gradiente: \" + str(G))\n",
    "\n",
    "# Puntos críticos\n",
    "G_2 = sym.Eq(G,zeros(2,1))\n",
    "sol = sym.solve(G_2, (x,y))\n",
    "print(\"- Puntos críticos: \" + str(sol))"
   ]
  },
  {
   "cell_type": "markdown",
   "metadata": {},
   "source": [
    "__Ejercicio 4__"
   ]
  },
  {
   "cell_type": "code",
   "execution_count": 16,
   "metadata": {},
   "outputs": [],
   "source": [
    "import scipy\n",
    "\n",
    "# Funciones\n",
    "# f(x) = sin(x)\n",
    "def f_sin(x):\n",
    "    return scipy.sin(x)\n",
    "\n",
    "# f(x) = exp(x)\n",
    "def f_exp(x):\n",
    "    return scipy.exp(x)"
   ]
  },
  {
   "cell_type": "code",
   "execution_count": 17,
   "metadata": {},
   "outputs": [
    {
     "name": "stdout",
     "output_type": "stream",
     "text": [
      "- Area de sin(x) en el intervalo [0,2]: 1.4161741152562695\n",
      "- Area de exp(x) en el intervalo [0,2]: 6.389287773782206\n"
     ]
    }
   ],
   "source": [
    "# Función Suma de Reimann\n",
    "def myquad(f, a, b, n):\n",
    "    width=(b-a)/n  \n",
    "    i = 0\n",
    "    Area = 0\n",
    "    while (i <= (n + 1)):\n",
    "        Area = Area + f(a + width*i)*width \n",
    "        i = i + 1\n",
    "    return Area\n",
    "\n",
    "# Resultados\n",
    "print (\"- Area de sin(x) en el intervalo [0,2]: \" + str(myquad(f_sin, 0, 2, 100000)))\n",
    "print (\"- Area de exp(x) en el intervalo [0,2]: \" + str(myquad(f_exp, 0, 2, 100000)))"
   ]
  },
  {
   "cell_type": "code",
   "execution_count": 18,
   "metadata": {},
   "outputs": [
    {
     "name": "stdout",
     "output_type": "stream",
     "text": [
      "· Con Scipy:\n",
      "- Area de sin(x) en el intervalo [0,2]: 1.4161468365471424\n",
      "- Area de exp(x) en el intervalo [0,2]: 6.3890560989306495\n"
     ]
    }
   ],
   "source": [
    "from scipy import integrate\n",
    "\n",
    "# Comprovación con Scipy\n",
    "print(\"· Con Scipy:\")\n",
    "int1,err1 = scipy.integrate.quad(f_sin, 0, 2)\n",
    "print(\"- Area de sin(x) en el intervalo [0,2]: \" + str(int1))\n",
    "int2,err2 = scipy.integrate.quad(f_exp, 0, 2)\n",
    "print(\"- Area de exp(x) en el intervalo [0,2]: \" + str(int2))"
   ]
  },
  {
   "cell_type": "markdown",
   "metadata": {},
   "source": [
    "# Probabilidad"
   ]
  },
  {
   "cell_type": "markdown",
   "metadata": {},
   "source": [
    "__Ejercicio 1__"
   ]
  },
  {
   "cell_type": "code",
   "execution_count": 19,
   "metadata": {
    "scrolled": true
   },
   "outputs": [
    {
     "data": {
      "text/plain": [
       "50.5"
      ]
     },
     "execution_count": 19,
     "metadata": {},
     "output_type": "execute_result"
    }
   ],
   "source": [
    "def expectedval(x=[], p=[]):\n",
    "    val =0\n",
    "    for i in range(len(x)):\n",
    "        val = val + x[i]*p[i]\n",
    "    return val\n",
    "\n",
    "# Resultados\n",
    "x = list(range(1,101,1))\n",
    "p = [1/100] * 100\n",
    "expectedval(x,p)"
   ]
  },
  {
   "cell_type": "markdown",
   "metadata": {},
   "source": [
    "__Ejercicio 2__"
   ]
  },
  {
   "cell_type": "code",
   "execution_count": 20,
   "metadata": {},
   "outputs": [
    {
     "data": {
      "image/png": "[encoded data removed]",
      "text/plain": [
       "<Figure size 432x288 with 1 Axes>"
      ]
     },
     "metadata": {
      "needs_background": "light"
     },
     "output_type": "display_data"
    }
   ],
   "source": [
    "from matplotlib import pyplot as mp\n",
    "\n",
    "# Función Normal o Gaussiana\n",
    "def f(x, mu, sigma):\n",
    "    return (1/np.sqrt(2.*np.pi*sigma**2))*np.exp(-(x-mu)**2/(2.*sigma**2))\n",
    "\n",
    "# Valores de mu y sigma\n",
    "mu_list = [0, -5, 2.5]\n",
    "sigma_list = [0.5, 1, 2]\n",
    "\n",
    "# Gráfica\n",
    "for i, j in zip(mu_list, sigma_list):\n",
    "    xx = np.linspace(-10, 10, 1000)\n",
    "    mp.plot(xx, f(xx,i,j))"
   ]
  },
  {
   "cell_type": "markdown",
   "metadata": {},
   "source": [
    "> Los datos se centran en el valor de mu, y sigma representa la dispersión de los datos. Si reducimos el parámetros de sigma, hay menos dispersión en los datos, y están más concentrados en mu."
   ]
  },
  {
   "cell_type": "code",
   "execution_count": 21,
   "metadata": {
    "scrolled": false
   },
   "outputs": [
    {
     "data": {
      "text/plain": [
       "[<matplotlib.lines.Line2D at 0x2a846096fd0>]"
      ]
     },
     "execution_count": 21,
     "metadata": {},
     "output_type": "execute_result"
    },
    {
     "data": {
      "image/png": "[encoded data removed]",
      "text/plain": [
       "<Figure size 432x288 with 1 Axes>"
      ]
     },
     "metadata": {
      "needs_background": "light"
     },
     "output_type": "display_data"
    }
   ],
   "source": [
    "# Valores aleatorios de una variable normal estándar\n",
    "sample_normal = np.random.standard_normal(100)\n",
    "\n",
    "# Histograma\n",
    "plt.hist(sample_normal, density=True)\n",
    "\n",
    "# Densidad\n",
    "mu = np.mean(sample_normal)\n",
    "sigma = np.std(sample_normal)\n",
    "xx_normal = np.linspace(-5, 5, 1000)\n",
    "plt.plot(xx_normal, f(xx_normal,mu,sigma))"
   ]
  },
  {
   "cell_type": "markdown",
   "metadata": {},
   "source": [
    "__Ejercicio 3__"
   ]
  },
  {
   "cell_type": "code",
   "execution_count": 22,
   "metadata": {},
   "outputs": [],
   "source": [
    "observaciones = [1.2767150, 0.3110598, 1.3053476, 5.4745855, 0.1019260, 2.1063239, 1.9163374, 0.2942336, 4.2996867, 0.5965690]"
   ]
  },
  {
   "cell_type": "code",
   "execution_count": 23,
   "metadata": {},
   "outputs": [
    {
     "data": {
      "text/plain": [
       "0.5655217932447234"
      ]
     },
     "execution_count": 23,
     "metadata": {},
     "output_type": "execute_result"
    }
   ],
   "source": [
    "from sympy import *\n",
    "import math\n",
    "\n",
    "x = Symbol('X', real=True)\n",
    "\n",
    "# Log-likelihood\n",
    "def f(x,sample):\n",
    "    return (log(x))*(len(sample)) - x * sum(sample)\n",
    "\n",
    "# Derivada de f\n",
    "def fprime(x,sample):\n",
    "    return diff(f(x,sample),x)\n",
    "\n",
    "# Resolvemos la ecuación de la 1era derivada de f, para obtener el parámetro lambda\n",
    "est_rate = float(solve(fprime(x,observaciones), x)[0])\n",
    "est_rate"
   ]
  },
  {
   "cell_type": "code",
   "execution_count": 24,
   "metadata": {},
   "outputs": [
    {
     "data": {
      "image/png": "[encoded data removed]",
      "text/plain": [
       "<Figure size 432x288 with 1 Axes>"
      ]
     },
     "metadata": {
      "needs_background": "light"
     },
     "output_type": "display_data"
    }
   ],
   "source": [
    "# Función exponencial\n",
    "def dexp(x, rate):\n",
    "    return rate * np.exp(- x * rate)\n",
    "\n",
    "# Gráfica\n",
    "plt.hist(observaciones, density = 1)\n",
    "plt.plot(np.linspace(0, 6), dexp(np.linspace(0, 6), est_rate))\n",
    "plt.show()"
   ]
  },
  {
   "cell_type": "markdown",
   "metadata": {},
   "source": [
    "__Ejercicio 4__"
   ]
  },
  {
   "cell_type": "code",
   "execution_count": 25,
   "metadata": {},
   "outputs": [
    {
     "data": {
      "text/plain": [
       "(0.9999999999999996, 1.1102230246251561e-15)"
      ]
     },
     "execution_count": 25,
     "metadata": {},
     "output_type": "execute_result"
    }
   ],
   "source": [
    "# Funcíon\n",
    "def funct_k(x, k):\n",
    "    return k * x**(k-1)\n",
    "\n",
    "# Comprovación area igual a 1\n",
    "scipy.integrate.quad(funct_k, args = (0.5), a = 0, b = 1)"
   ]
  },
  {
   "cell_type": "code",
   "execution_count": 26,
   "metadata": {},
   "outputs": [
    {
     "data": {
      "text/plain": [
       "[0.6666666666666667,\n",
       " 0.75,\n",
       " 0.8,\n",
       " 0.8333333333333335,\n",
       " 0.8571428571428571,\n",
       " 0.875,\n",
       " 0.888888888888889,\n",
       " 0.9,\n",
       " 0.9090909090909094,\n",
       " 0.9166666666666666,\n",
       " 0.9230769230769232,\n",
       " 0.9285714285714288,\n",
       " 0.9333333333333336,\n",
       " 0.9375000000000002,\n",
       " 0.9411764705882355,\n",
       " 0.9444444444444449,\n",
       " 0.9473684210526319,\n",
       " 0.9500000000000002]"
      ]
     },
     "execution_count": 26,
     "metadata": {},
     "output_type": "execute_result"
    }
   ],
   "source": [
    "# Lista con los parámetros k\n",
    "k_list = np.arange(2,20)\n",
    "\n",
    "# Valor esperado con diferentes parámetros k, integral de la función (E[U])\n",
    "resultados_valor_esperado = []\n",
    "for k in k_list:\n",
    "    valor_esperado, err = scipy.integrate.quad(lambda x, k : x * funct_k(x, k), args = (k), a = 0, b = 1)\n",
    "    resultados_valor_esperado.append(valor_esperado)\n",
    "    \n",
    "resultados_valor_esperado"
   ]
  },
  {
   "cell_type": "code",
   "execution_count": 27,
   "metadata": {},
   "outputs": [
    {
     "data": {
      "text/plain": [
       "[0.888888888888889,\n",
       " 1.2375000000000003,\n",
       " 1.645714285714286,\n",
       " 2.083333333333333,\n",
       " 2.538033395176253,\n",
       " 3.0036057692307696,\n",
       " 3.476543209876545,\n",
       " 3.954705882352943,\n",
       " 4.436711613745107,\n",
       " 4.921626984126986,\n",
       " 5.408798559300232,\n",
       " 5.8977551020408185,\n",
       " 6.38814814814815,\n",
       " 6.879714439655174,\n",
       " 7.372251367340108,\n",
       " 7.865600448933785,\n",
       " 8.359635931935102,\n",
       " 8.854256756756763]"
      ]
     },
     "execution_count": 27,
     "metadata": {},
     "output_type": "execute_result"
    }
   ],
   "source": [
    "# Varianza con diferentes parámetros k (Var[U]= E[U**2]-E[U]**2)\n",
    "resultados_EU2 = []\n",
    "resultados_varianza = []\n",
    "\n",
    "# Calculamos E[U**2]\n",
    "for k in k_list:\n",
    "    EU2, err = scipy.integrate.quad(lambda x, k: (funct_k(x,k))**2, args = (k), a = 0, b = 1)\n",
    "    resultados_EU2.append(EU2)\n",
    "\n",
    "# Calculamos la varianza\n",
    "for i, j in zip(resultados_valor_esperado, resultados_EU2):    \n",
    "    varianza = j - i**2\n",
    "    resultados_varianza.append(varianza)\n",
    "    \n",
    "resultados_varianza"
   ]
  },
  {
   "cell_type": "code",
   "execution_count": 28,
   "metadata": {},
   "outputs": [
    {
     "data": {
      "text/plain": [
       "[0.11111111111111112,\n",
       " 0.25,\n",
       " 0.42857142857142866,\n",
       " 0.6666666666666667,\n",
       " 1.0,\n",
       " 1.4999999999999998,\n",
       " 2.333333333333334,\n",
       " 4.000000000000001,\n",
       " 9.000000000000002]"
      ]
     },
     "execution_count": 28,
     "metadata": {},
     "output_type": "execute_result"
    }
   ],
   "source": [
    "# Parámetros K a partir de diferentes medias muestrales (observaciones)\n",
    "medias_muestrales_list = np.arange(0.1,1,0.1) # Lista de diferentes medias muestrales\n",
    "resultados_k = []\n",
    "for i in medias_muestrales_list:\n",
    "    parametro_k = i/(1-i) # fórmula 1er momento (con la k despejada)\n",
    "    resultados_k.append(parametro_k)\n",
    "\n",
    "resultados_k"
   ]
  },
  {
   "cell_type": "markdown",
   "metadata": {},
   "source": [
    "> Medias_muestrales_list representa el conjunto de medias muestrales de diferentes muestras (que yo he simulado, ya que no tengo una muestra)."
   ]
  },
  {
   "cell_type": "markdown",
   "metadata": {},
   "source": [
    "__Ejercicio 5__"
   ]
  },
  {
   "cell_type": "code",
   "execution_count": 29,
   "metadata": {},
   "outputs": [],
   "source": [
    "# Parámetros (de la variable aleatoria Binomial)\n",
    "n = 20\n",
    "p = 0.1\n",
    "q = 1-p\n",
    "\n",
    "# Samples\n",
    "sample_binomial_100 = np.random.binomial(20, 0.1, size=100)\n",
    "sample_binomial_1000 = np.random.binomial(20, 0.1, size=1000)\n",
    "sample_binomial_10000 = np.random.binomial(20, 0.1, size=10000)"
   ]
  },
  {
   "cell_type": "code",
   "execution_count": 30,
   "metadata": {},
   "outputs": [
    {
     "data": {
      "text/plain": [
       "2.0"
      ]
     },
     "execution_count": 30,
     "metadata": {},
     "output_type": "execute_result"
    }
   ],
   "source": [
    "# Media poblacional\n",
    "media_binomial = n*p\n",
    "media_binomial"
   ]
  },
  {
   "cell_type": "code",
   "execution_count": 31,
   "metadata": {},
   "outputs": [
    {
     "data": {
      "text/plain": [
       "1.8"
      ]
     },
     "execution_count": 31,
     "metadata": {},
     "output_type": "execute_result"
    }
   ],
   "source": [
    "# Varianza poblacional\n",
    "varianza_binomial = n*p*q\n",
    "varianza_binomial"
   ]
  },
  {
   "cell_type": "code",
   "execution_count": 32,
   "metadata": {},
   "outputs": [
    {
     "name": "stdout",
     "output_type": "stream",
     "text": [
      "- Media muestral (100 observaciones): 2.05\n",
      "- Media muestral (1000 observaciones): 2.078\n",
      "- Media muestral (10000 observaciones): 2.0024\n"
     ]
    }
   ],
   "source": [
    "# Media muestral\n",
    "def media_muestral_binomial(sample):\n",
    "    suma_binomial = 0\n",
    "    for i in sample:\n",
    "        suma_binomial += i\n",
    "    media_binomial_muestra = suma_binomial/len(sample)   \n",
    "    return media_binomial_muestra\n",
    "\n",
    "# Resultados\n",
    "media_muestral_binomial_100 = media_muestral_binomial(sample_binomial_100)\n",
    "media_muestral_binomial_1000 = media_muestral_binomial(sample_binomial_1000)\n",
    "media_muestral_binomial_10000 = media_muestral_binomial(sample_binomial_10000)\n",
    "\n",
    "print(\"- Media muestral (100 observaciones): \" + str(media_muestral_binomial_100))\n",
    "print(\"- Media muestral (1000 observaciones): \" + str(media_muestral_binomial_1000))\n",
    "print(\"- Media muestral (10000 observaciones): \" + str(media_muestral_binomial_10000))"
   ]
  },
  {
   "cell_type": "code",
   "execution_count": 33,
   "metadata": {},
   "outputs": [
    {
     "name": "stdout",
     "output_type": "stream",
     "text": [
      "- Varianza muestral (100 observaciones): 0.0009000000000000001\n",
      "- Varianza muestral (1000 observaciones): 9e-05\n",
      "- Varianza muestral (10000 observaciones): 9e-06\n"
     ]
    }
   ],
   "source": [
    "# Varianza muestral\n",
    "def varianza_muestral_binomial(sample):\n",
    "    varianza_binomial_muestra = (p*(1-p))/(len(sample))   \n",
    "    return varianza_binomial_muestra\n",
    "\n",
    "# Resultados\n",
    "varianza_muestral_binomial_100 = varianza_muestral_binomial(sample_binomial_100)\n",
    "varianza_muestral_binomial_1000 = varianza_muestral_binomial(sample_binomial_1000)\n",
    "varianza_muestral_binomial_10000 = varianza_muestral_binomial(sample_binomial_10000)\n",
    "\n",
    "print(\"- Varianza muestral (100 observaciones): \" + str(varianza_muestral_binomial_100))\n",
    "print(\"- Varianza muestral (1000 observaciones): \" + str(varianza_muestral_binomial_1000))\n",
    "print(\"- Varianza muestral (10000 observaciones): \" + str(varianza_muestral_binomial_10000))"
   ]
  },
  {
   "cell_type": "markdown",
   "metadata": {},
   "source": [
    "> La media muestral con más observaciones se acerca a la media poblacional, y la varianza se acerca a 0."
   ]
  }
 ],
 "metadata": {
  "kernelspec": {
   "display_name": "Python 3",
   "language": "python",
   "name": "python3"
  },
  "language_info": {
   "codemirror_mode": {
    "name": "ipython",
    "version": 3
   },
   "file_extension": ".py",
   "mimetype": "text/x-python",
   "name": "python",
   "nbconvert_exporter": "python",
   "pygments_lexer": "ipython3",
   "version": "3.7.3"
  }
 },
 "nbformat": 4,
 "nbformat_minor": 2
}
